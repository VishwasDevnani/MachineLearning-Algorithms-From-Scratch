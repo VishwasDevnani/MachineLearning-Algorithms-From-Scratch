{
 "cells": [
  {
   "cell_type": "markdown",
   "metadata": {},
   "source": [
    "# Naive Baeyes Algorithm\n",
    "It is a very simple classificiation based on **Baeyes Theorem**.\n",
    "Assumptions:\n",
    "- ### IID:\n",
    "It states that all the features which are used in classification are independent and identical from each other.\n",
    "    - **Independent**: This means that each feature is purely independent of each other and one does not effect another.\n",
    "    - **Identical**: This means that we are assuming that each of the feature is obtained from the same distribution , in this case Mullitvariate Gaussian.\n",
    "#### Baeyes Theorem:\n",
    "$$P(A|B) = \\frac{P(B|A)P(A)}{P(B)}$$\n",
    "For machine learning , naive baeyes can be written as :\n",
    "$$P(class|data) = \\frac{P(data|class)P(class)}{P(data)}$$\n",
    "- P(class) : Prior Probability , it is the probability of class in the given dataset.\n",
    "- P(data): Total probability \n",
    "- P(data|clas) : Likelihood Probability , probability of class having a given data value associated to it.\n",
    "- P(class| data) : Posterior Probability , probability of data having a particular class\n",
    "\n",
    "![](https://i.ytimg.com/vi/eho8xH3E6mE/hqdefault.jpg)"
   ]
  },
  {
   "cell_type": "code",
   "execution_count": 1,
   "metadata": {},
   "outputs": [],
   "source": [
    "import pandas as pd \n",
    "import numpy as np\n",
    "import scipy.stats as s\n",
    "import seaborn as sns\n",
    "import matplotlib.pyplot as plt"
   ]
  },
  {
   "cell_type": "code",
   "execution_count": 2,
   "metadata": {},
   "outputs": [],
   "source": [
    "raw_data = pd.read_csv(\"mushrooms.csv\")"
   ]
  },
  {
   "cell_type": "code",
   "execution_count": 3,
   "metadata": {},
   "outputs": [
    {
     "data": {
      "text/html": [
       "<div>\n",
       "<style scoped>\n",
       "    .dataframe tbody tr th:only-of-type {\n",
       "        vertical-align: middle;\n",
       "    }\n",
       "\n",
       "    .dataframe tbody tr th {\n",
       "        vertical-align: top;\n",
       "    }\n",
       "\n",
       "    .dataframe thead th {\n",
       "        text-align: right;\n",
       "    }\n",
       "</style>\n",
       "<table border=\"1\" class=\"dataframe\">\n",
       "  <thead>\n",
       "    <tr style=\"text-align: right;\">\n",
       "      <th></th>\n",
       "      <th>class</th>\n",
       "      <th>cap-shape</th>\n",
       "      <th>cap-surface</th>\n",
       "      <th>cap-color</th>\n",
       "      <th>bruises</th>\n",
       "      <th>odor</th>\n",
       "      <th>gill-attachment</th>\n",
       "      <th>gill-spacing</th>\n",
       "      <th>gill-size</th>\n",
       "      <th>gill-color</th>\n",
       "      <th>...</th>\n",
       "      <th>stalk-surface-below-ring</th>\n",
       "      <th>stalk-color-above-ring</th>\n",
       "      <th>stalk-color-below-ring</th>\n",
       "      <th>veil-type</th>\n",
       "      <th>veil-color</th>\n",
       "      <th>ring-number</th>\n",
       "      <th>ring-type</th>\n",
       "      <th>spore-print-color</th>\n",
       "      <th>population</th>\n",
       "      <th>habitat</th>\n",
       "    </tr>\n",
       "  </thead>\n",
       "  <tbody>\n",
       "    <tr>\n",
       "      <th>0</th>\n",
       "      <td>p</td>\n",
       "      <td>x</td>\n",
       "      <td>s</td>\n",
       "      <td>n</td>\n",
       "      <td>t</td>\n",
       "      <td>p</td>\n",
       "      <td>f</td>\n",
       "      <td>c</td>\n",
       "      <td>n</td>\n",
       "      <td>k</td>\n",
       "      <td>...</td>\n",
       "      <td>s</td>\n",
       "      <td>w</td>\n",
       "      <td>w</td>\n",
       "      <td>p</td>\n",
       "      <td>w</td>\n",
       "      <td>o</td>\n",
       "      <td>p</td>\n",
       "      <td>k</td>\n",
       "      <td>s</td>\n",
       "      <td>u</td>\n",
       "    </tr>\n",
       "    <tr>\n",
       "      <th>1</th>\n",
       "      <td>e</td>\n",
       "      <td>x</td>\n",
       "      <td>s</td>\n",
       "      <td>y</td>\n",
       "      <td>t</td>\n",
       "      <td>a</td>\n",
       "      <td>f</td>\n",
       "      <td>c</td>\n",
       "      <td>b</td>\n",
       "      <td>k</td>\n",
       "      <td>...</td>\n",
       "      <td>s</td>\n",
       "      <td>w</td>\n",
       "      <td>w</td>\n",
       "      <td>p</td>\n",
       "      <td>w</td>\n",
       "      <td>o</td>\n",
       "      <td>p</td>\n",
       "      <td>n</td>\n",
       "      <td>n</td>\n",
       "      <td>g</td>\n",
       "    </tr>\n",
       "    <tr>\n",
       "      <th>2</th>\n",
       "      <td>e</td>\n",
       "      <td>b</td>\n",
       "      <td>s</td>\n",
       "      <td>w</td>\n",
       "      <td>t</td>\n",
       "      <td>l</td>\n",
       "      <td>f</td>\n",
       "      <td>c</td>\n",
       "      <td>b</td>\n",
       "      <td>n</td>\n",
       "      <td>...</td>\n",
       "      <td>s</td>\n",
       "      <td>w</td>\n",
       "      <td>w</td>\n",
       "      <td>p</td>\n",
       "      <td>w</td>\n",
       "      <td>o</td>\n",
       "      <td>p</td>\n",
       "      <td>n</td>\n",
       "      <td>n</td>\n",
       "      <td>m</td>\n",
       "    </tr>\n",
       "    <tr>\n",
       "      <th>3</th>\n",
       "      <td>p</td>\n",
       "      <td>x</td>\n",
       "      <td>y</td>\n",
       "      <td>w</td>\n",
       "      <td>t</td>\n",
       "      <td>p</td>\n",
       "      <td>f</td>\n",
       "      <td>c</td>\n",
       "      <td>n</td>\n",
       "      <td>n</td>\n",
       "      <td>...</td>\n",
       "      <td>s</td>\n",
       "      <td>w</td>\n",
       "      <td>w</td>\n",
       "      <td>p</td>\n",
       "      <td>w</td>\n",
       "      <td>o</td>\n",
       "      <td>p</td>\n",
       "      <td>k</td>\n",
       "      <td>s</td>\n",
       "      <td>u</td>\n",
       "    </tr>\n",
       "    <tr>\n",
       "      <th>4</th>\n",
       "      <td>e</td>\n",
       "      <td>x</td>\n",
       "      <td>s</td>\n",
       "      <td>g</td>\n",
       "      <td>f</td>\n",
       "      <td>n</td>\n",
       "      <td>f</td>\n",
       "      <td>w</td>\n",
       "      <td>b</td>\n",
       "      <td>k</td>\n",
       "      <td>...</td>\n",
       "      <td>s</td>\n",
       "      <td>w</td>\n",
       "      <td>w</td>\n",
       "      <td>p</td>\n",
       "      <td>w</td>\n",
       "      <td>o</td>\n",
       "      <td>e</td>\n",
       "      <td>n</td>\n",
       "      <td>a</td>\n",
       "      <td>g</td>\n",
       "    </tr>\n",
       "  </tbody>\n",
       "</table>\n",
       "<p>5 rows × 23 columns</p>\n",
       "</div>"
      ],
      "text/plain": [
       "  class cap-shape cap-surface cap-color bruises odor gill-attachment  \\\n",
       "0     p         x           s         n       t    p               f   \n",
       "1     e         x           s         y       t    a               f   \n",
       "2     e         b           s         w       t    l               f   \n",
       "3     p         x           y         w       t    p               f   \n",
       "4     e         x           s         g       f    n               f   \n",
       "\n",
       "  gill-spacing gill-size gill-color  ... stalk-surface-below-ring  \\\n",
       "0            c         n          k  ...                        s   \n",
       "1            c         b          k  ...                        s   \n",
       "2            c         b          n  ...                        s   \n",
       "3            c         n          n  ...                        s   \n",
       "4            w         b          k  ...                        s   \n",
       "\n",
       "  stalk-color-above-ring stalk-color-below-ring veil-type veil-color  \\\n",
       "0                      w                      w         p          w   \n",
       "1                      w                      w         p          w   \n",
       "2                      w                      w         p          w   \n",
       "3                      w                      w         p          w   \n",
       "4                      w                      w         p          w   \n",
       "\n",
       "  ring-number ring-type spore-print-color population habitat  \n",
       "0           o         p                 k          s       u  \n",
       "1           o         p                 n          n       g  \n",
       "2           o         p                 n          n       m  \n",
       "3           o         p                 k          s       u  \n",
       "4           o         e                 n          a       g  \n",
       "\n",
       "[5 rows x 23 columns]"
      ]
     },
     "execution_count": 3,
     "metadata": {},
     "output_type": "execute_result"
    }
   ],
   "source": [
    "raw_data.head()"
   ]
  },
  {
   "cell_type": "code",
   "execution_count": 4,
   "metadata": {},
   "outputs": [
    {
     "name": "stdout",
     "output_type": "stream",
     "text": [
      "<class 'pandas.core.frame.DataFrame'>\n",
      "RangeIndex: 8124 entries, 0 to 8123\n",
      "Data columns (total 23 columns):\n",
      " #   Column                    Non-Null Count  Dtype \n",
      "---  ------                    --------------  ----- \n",
      " 0   class                     8124 non-null   object\n",
      " 1   cap-shape                 8124 non-null   object\n",
      " 2   cap-surface               8124 non-null   object\n",
      " 3   cap-color                 8124 non-null   object\n",
      " 4   bruises                   8124 non-null   object\n",
      " 5   odor                      8124 non-null   object\n",
      " 6   gill-attachment           8124 non-null   object\n",
      " 7   gill-spacing              8124 non-null   object\n",
      " 8   gill-size                 8124 non-null   object\n",
      " 9   gill-color                8124 non-null   object\n",
      " 10  stalk-shape               8124 non-null   object\n",
      " 11  stalk-root                8124 non-null   object\n",
      " 12  stalk-surface-above-ring  8124 non-null   object\n",
      " 13  stalk-surface-below-ring  8124 non-null   object\n",
      " 14  stalk-color-above-ring    8124 non-null   object\n",
      " 15  stalk-color-below-ring    8124 non-null   object\n",
      " 16  veil-type                 8124 non-null   object\n",
      " 17  veil-color                8124 non-null   object\n",
      " 18  ring-number               8124 non-null   object\n",
      " 19  ring-type                 8124 non-null   object\n",
      " 20  spore-print-color         8124 non-null   object\n",
      " 21  population                8124 non-null   object\n",
      " 22  habitat                   8124 non-null   object\n",
      "dtypes: object(23)\n",
      "memory usage: 1.4+ MB\n"
     ]
    }
   ],
   "source": [
    "raw_data.info()"
   ]
  },
  {
   "cell_type": "code",
   "execution_count": 5,
   "metadata": {},
   "outputs": [
    {
     "data": {
      "text/plain": [
       "array(['p', 'e'], dtype=object)"
      ]
     },
     "execution_count": 5,
     "metadata": {},
     "output_type": "execute_result"
    }
   ],
   "source": [
    "raw_data['class'].unique()\n"
   ]
  },
  {
   "cell_type": "code",
   "execution_count": 6,
   "metadata": {},
   "outputs": [],
   "source": [
    "def count(col_name):\n",
    "    return raw_data.groupby(col_name).count().iloc[:,0]"
   ]
  },
  {
   "cell_type": "code",
   "execution_count": 7,
   "metadata": {},
   "outputs": [
    {
     "data": {
      "text/plain": [
       "class\n",
       "e    4208\n",
       "p    3916\n",
       "Name: cap-shape, dtype: int64"
      ]
     },
     "execution_count": 7,
     "metadata": {},
     "output_type": "execute_result"
    }
   ],
   "source": [
    "count('class')"
   ]
  },
  {
   "cell_type": "code",
   "execution_count": 8,
   "metadata": {},
   "outputs": [
    {
     "data": {
      "text/plain": [
       "array(['cap-shape', 'cap-surface', 'cap-color', 'bruises', 'odor',\n",
       "       'gill-attachment', 'gill-spacing', 'gill-size', 'gill-color',\n",
       "       'stalk-shape', 'stalk-root', 'stalk-surface-above-ring',\n",
       "       'stalk-surface-below-ring', 'stalk-color-above-ring',\n",
       "       'stalk-color-below-ring', 'veil-type', 'veil-color', 'ring-number',\n",
       "       'ring-type', 'spore-print-color', 'population', 'habitat'],\n",
       "      dtype=object)"
      ]
     },
     "execution_count": 8,
     "metadata": {},
     "output_type": "execute_result"
    }
   ],
   "source": [
    "np.array(raw_data.columns[1:])"
   ]
  },
  {
   "cell_type": "code",
   "execution_count": 9,
   "metadata": {},
   "outputs": [],
   "source": [
    "col_names = np.array(raw_data.columns[1:21]).reshape(5,4)"
   ]
  },
  {
   "cell_type": "code",
   "execution_count": 10,
   "metadata": {},
   "outputs": [
    {
     "data": {
      "image/png": "[encoded data removed]",
      "text/plain": [
       "<Figure size 1440x1152 with 20 Axes>"
      ]
     },
     "metadata": {
      "needs_background": "light"
     },
     "output_type": "display_data"
    }
   ],
   "source": [
    "plt.figure(figsize=(20,16))\n",
    "for i in range(5):\n",
    "    for j in range(4):\n",
    "        ax = plt.subplot2grid((5,4), (i,j))\n",
    "        ax = sns.countplot(count(col_names[i,j]))\n",
    "plt.show()"
   ]
  },
  {
   "cell_type": "code",
   "execution_count": 11,
   "metadata": {},
   "outputs": [
    {
     "data": {
      "text/plain": [
       "<matplotlib.axes._subplots.AxesSubplot at 0x1def56f1e50>"
      ]
     },
     "execution_count": 11,
     "metadata": {},
     "output_type": "execute_result"
    },
    {
     "data": {
      "image/png": "[encoded data removed]",
      "text/plain": [
       "<Figure size 432x288 with 1 Axes>"
      ]
     },
     "metadata": {
      "needs_background": "light"
     },
     "output_type": "display_data"
    }
   ],
   "source": [
    "sns.countplot(raw_data.groupby('class').count().iloc[:,0])"
   ]
  },
  {
   "cell_type": "code",
   "execution_count": 12,
   "metadata": {},
   "outputs": [],
   "source": [
    "class PrepareData:\n",
    "    def __init__(self,data):\n",
    "        self.data = data\n",
    "        self.m = None\n",
    "        self.features = self.preparing_features()\n",
    "        self.category = None\n",
    "        self.c0_data = None\n",
    "        self.c1_data = None\n",
    "        self.c0_train_data = None\n",
    "        self.c1_train_data = None\n",
    "        self.c0_test_data = None\n",
    "        self.c1_test_data = None\n",
    "        self.train_data = None\n",
    "        self.test_data = None\n",
    "        self.train_labels = None\n",
    "        self.test_labels = None\n",
    "       \n",
    "    def preparing_features(self):\n",
    "        '''\n",
    "        Dealing with the features with only one unique value or ambiguous values as features\n",
    "        '''\n",
    "        for i in self.data.columns:\n",
    "            if self.data[i].nunique() <=1:\n",
    "                self.data.drop(i,axis=1,inplace=True)\n",
    "            elif  \"?\" in self.data[i].unique() or \" \" in self.data[i].unique():\n",
    "                self.data.drop(i,axis=1,inplace=True)\n",
    "        self.features = np.array(self.data.columns[1:])\n",
    "        return  self.features \n",
    "    def train_test_split(self):\n",
    "        '''\n",
    "        Returns :\n",
    "        test_data -> test dataset after splitting the raw data\n",
    "        c0_train_data -> train data split according to their class , data belonging to class \"p\"\n",
    "        c1_train_data -> train data split according to their class , data belonging to class \"e\"\n",
    "        '''\n",
    "        self.m = int(0.65*self.data.shape[0])\n",
    "        self.category = self.data['class'].unique()\n",
    "        \n",
    "        self.c0_data = self.data[self.data['class'] == self.category[0]]\n",
    "        self.c0_train_data = self.c0_data.iloc[:self.m//2]\n",
    "        self.c0_test_data = self.c0_data.iloc[self.m//2:]\n",
    "        self.c1_data = self.data[self.data['class'] == self.category[1]]\n",
    "        self.c1_train_data = self.c1_data.iloc[:self.m//2]\n",
    "        self.c1_test_data = self.c1_data.iloc[self.m//2:]\n",
    "        self.train_data = pd.concat([self.c0_train_data , self.c1_train_data])\n",
    "        self.test_data = pd.concat([self.c0_test_data,self.c1_test_data])\n",
    "        self.test_data['class'].replace(to_replace=[self.category[0],self.category[1]],value=[True,False],inplace=True)\n",
    "        return self.test_data,self.c0_train_data,self.c1_train_data"
   ]
  },
  {
   "cell_type": "code",
   "execution_count": 13,
   "metadata": {},
   "outputs": [],
   "source": [
    "raw_data_copy = raw_data"
   ]
  },
  {
   "cell_type": "code",
   "execution_count": 14,
   "metadata": {},
   "outputs": [],
   "source": [
    "data = PrepareData(raw_data_copy)"
   ]
  },
  {
   "cell_type": "code",
   "execution_count": 15,
   "metadata": {},
   "outputs": [],
   "source": [
    "features = data.features\n",
    "test_data,c0_train_data,c1_train_data = data.train_test_split()\n",
    "category = data.category"
   ]
  },
  {
   "cell_type": "markdown",
   "metadata": {},
   "source": [
    "In this type of data where each value is categorical and using any pdf is impossible then we use \\\n",
    " the probabilities calculated and use them instead to calculate Likelihood Probability. \\\n",
    "**BUT**\\\n",
    "Multiplying so many values will reach beyond the capability of python(lowest value possible is of 10^(-36) so we will calculate the probabilties by converting them into **Negative Log Probability** .\n"
   ]
  },
  {
   "cell_type": "markdown",
   "metadata": {},
   "source": [
    "$$P(class = c | X) = \\frac{P(X | class = c)}{P(X)}$$\n",
    "\n",
    "$$P(class = c| cap-shape = x \\cap gill-color = k) = \\frac{P(cap-shape = x \\cap gill-color = k | class = C)}{P(cap-shape = x|class = 0) + P(cap-shape = x|class = 1) + P(gill-color = k|class = 0) + P(gill-colo' = k|class = 1)}$$"
   ]
  },
  {
   "cell_type": "markdown",
   "metadata": {},
   "source": [
    "## Laplace Smoothening :\n",
    "It is a smoothing technique that helps tackle the problem of zero probability in the Naïve Bayes machine learning algorithm.In terms of Machine Learning the formula for Laplace smoothening,\n",
    "$$P = 1/(N + k\\lambda )$$\n",
    "- N : Total number of observations\n",
    "- K : Value of unique features present in the dataset"
   ]
  },
  {
   "cell_type": "code",
   "execution_count": 16,
   "metadata": {},
   "outputs": [],
   "source": [
    "class NaiveBaeyes:\n",
    "    def __init__(self,data,test_data,c0_train_data,c1_train_data,features,category):\n",
    "        self.data = data\n",
    "        self.test_data = test_data\n",
    "        self.c0_train_data = c0_train_data\n",
    "        self.c1_train_data =c1_train_data\n",
    "        self.features = features\n",
    "        self.category = category\n",
    "        self.c0_p = {}\n",
    "        self.c1_p = {}\n",
    "        self.negative_prob = self.predict()\n",
    "        self.accu =None\n",
    "    def feature_p_values(self,data, training_data, feature_name):\n",
    "        '''\n",
    "        The function to find probability for each unique feature value for each feature and also performing \n",
    "        Laplacian Smoothening (for the feature not present in int dataset) to prevent zero probability.\n",
    "        Returns:\n",
    "        blank_dict -> A dicitionary with (feature name,feature) as keys and negative log probability as value\n",
    "        '''\n",
    "        unique_values = data[feature_name].unique()\n",
    "\n",
    "        blank_dict = {}\n",
    "\n",
    "        train_unique_values = training_data[feature_name].unique()\n",
    "\n",
    "        for u_value in unique_values:\n",
    "\n",
    "                if u_value not in train_unique_values:\n",
    "\n",
    "                    blank_dict[u_value] = -np.log(1 / (training_data.shape[0] + unique_values.shape[0]))\n",
    "\n",
    "                else:\n",
    "\n",
    "                    blank_dict[u_value] = -np.log(training_data[training_data[feature_name] == u_value].shape[0] / training_data.shape[0])\n",
    "\n",
    "        return blank_dict\n",
    "    def feature_probability(self):\n",
    "        '''\n",
    "        To calculate feature probability for both class dataset \n",
    "        '''\n",
    "        for i in self.features:\n",
    "            self.c0_p[i]=self.feature_p_values(self.data.data,self.c0_train_data,i)\n",
    "\n",
    "        for i in self.features:\n",
    "            self.c1_p[i] = self.feature_p_values(self.data.data,self.c1_train_data,i)\n",
    "        \n",
    "    def predict(self):\n",
    "        '''\n",
    "        Calculate negative probability for test data by summing each negative log probability for each feature value present in \n",
    "        the datset.\n",
    "        Return:\n",
    "        negative_prob -> Boolean aray with True for class \"0\" / \"p\" and False for class \"1\"/ \"e\"\n",
    "        '''\n",
    "        self.feature_probability()\n",
    "        self.negative_prob= []\n",
    "        for i in range(0,self.test_data.shape[0]):\n",
    "            count_0 = 0\n",
    "            count_1 = 0\n",
    "            for f_name in self.test_data.iloc[:,1:].columns:\n",
    "                count_0 =+self.c0_p[f_name][self.test_data.iloc[i][f_name]]\n",
    "                count_1 =+self.c1_p[f_name][self.test_data.iloc[i][f_name]]\n",
    "            if count_0 < count_1:\n",
    "                self.negative_prob.append(self.category[0])\n",
    "            else:\n",
    "                self.negative_prob.append(self.category[1])\n",
    "        for i in range(0,len(self.negative_prob)):\n",
    "            if self.negative_prob[i] == 'p':\n",
    "                self.negative_prob[i]=True\n",
    "            else:\n",
    "                self.negative_prob[i] = False\n",
    "        return self.negative_prob\n",
    "    def accuracy(self):\n",
    "        '''\n",
    "        Calculate the test accuracy by using negative probabilities \n",
    "        '''\n",
    "        boolean_mask = np.array(self.test_data['class'])\n",
    "        self.accu = np.count_nonzero(boolean_mask==self.negative_prob)\n",
    "        self.accu /= boolean_mask.shape[0]\n",
    "        return f\"Test Accuracy : {self.accu}\""
   ]
  },
  {
   "cell_type": "code",
   "execution_count": 17,
   "metadata": {},
   "outputs": [],
   "source": [
    "model = NaiveBaeyes(data , test_data ,c0_train_data,c1_train_data,features,category)"
   ]
  },
  {
   "cell_type": "code",
   "execution_count": 18,
   "metadata": {},
   "outputs": [
    {
     "data": {
      "text/plain": [
       "'Test Accuracy : 0.7426160337552743'"
      ]
     },
     "execution_count": 18,
     "metadata": {},
     "output_type": "execute_result"
    }
   ],
   "source": [
    "model.accuracy()"
   ]
  },
  {
   "cell_type": "code",
   "execution_count": null,
   "metadata": {},
   "outputs": [],
   "source": []
  }
 ],
 "metadata": {
  "kernelspec": {
   "display_name": "Python 3",
   "language": "python",
   "name": "python3"
  },
  "language_info": {
   "codemirror_mode": {
    "name": "ipython",
    "version": 3
   },
   "file_extension": ".py",
   "mimetype": "text/x-python",
   "name": "python",
   "nbconvert_exporter": "python",
   "pygments_lexer": "ipython3",
   "version": "3.8.3"
  }
 },
 "nbformat": 4,
 "nbformat_minor": 2
}
