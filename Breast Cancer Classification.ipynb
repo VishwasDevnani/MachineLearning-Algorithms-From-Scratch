{
 "cells": [
  {
   "cell_type": "markdown",
   "metadata": {},
   "source": [
    "# Naive Baeyes Algorithm\n",
    "It is a very simple classificiation based on **Baeyes Theorem**.\n",
    "Assumptions:\n",
    "- ### IID:\n",
    "It states that all the features which are used in classification are independent and identical from each other.\n",
    "    - **Independent**: This means that each feature is purely independent of each other and one does not effect another.\n",
    "    - **Identical**: This means that we are assuming that each of the feature is obtained from the same distribution , in this case Mullitvariate Gaussian.\n",
    "#### Baeyes Theorem:\n",
    "$$P(A|B) = \\frac{P(B|A)P(A)}{P(B)}$$\n",
    "For machine learning , naive baeyes can be written as :\n",
    "$$P(class|data) = \\frac{P(data|class)P(class)}{P(data)}$$\n",
    "- P(class) : Prior Probability , it is the probability of class in the given dataset.\n",
    "- P(data): Total probability \n",
    "- P(data|clas) : Likelihood Probability , probability of class having a given data value associated to it.\n",
    "- P(class| data) : Posterior Probability , probability of data having a particular class\n",
    "\n",
    "![](https://i.ytimg.com/vi/eho8xH3E6mE/hqdefault.jpg)"
   ]
  },
  {
   "cell_type": "code",
   "execution_count": 1,
   "metadata": {},
   "outputs": [],
   "source": [
    "import pandas as pd\n",
    "import numpy as np\n",
    "import scipy.stats as s\n",
    "import seaborn as sns \n",
    "import plotly as py\n",
    "import plotly.express as px"
   ]
  },
  {
   "cell_type": "markdown",
   "metadata": {},
   "source": [
    "\n",
    "\n",
    "### Reading the data "
   ]
  },
  {
   "cell_type": "code",
   "execution_count": 4,
   "metadata": {},
   "outputs": [],
   "source": [
    "raw_data=pd.read_csv(\"data.csv\")"
   ]
  },
  {
   "cell_type": "code",
   "execution_count": 5,
   "metadata": {
    "scrolled": true
   },
   "outputs": [
    {
     "data": {
      "text/html": [
       "<div>\n",
       "<style scoped>\n",
       "    .dataframe tbody tr th:only-of-type {\n",
       "        vertical-align: middle;\n",
       "    }\n",
       "\n",
       "    .dataframe tbody tr th {\n",
       "        vertical-align: top;\n",
       "    }\n",
       "\n",
       "    .dataframe thead th {\n",
       "        text-align: right;\n",
       "    }\n",
       "</style>\n",
       "<table border=\"1\" class=\"dataframe\">\n",
       "  <thead>\n",
       "    <tr style=\"text-align: right;\">\n",
       "      <th></th>\n",
       "      <th>id</th>\n",
       "      <th>diagnosis</th>\n",
       "      <th>radius_mean</th>\n",
       "      <th>texture_mean</th>\n",
       "      <th>perimeter_mean</th>\n",
       "      <th>area_mean</th>\n",
       "      <th>smoothness_mean</th>\n",
       "      <th>compactness_mean</th>\n",
       "      <th>concavity_mean</th>\n",
       "      <th>concave points_mean</th>\n",
       "      <th>...</th>\n",
       "      <th>texture_worst</th>\n",
       "      <th>perimeter_worst</th>\n",
       "      <th>area_worst</th>\n",
       "      <th>smoothness_worst</th>\n",
       "      <th>compactness_worst</th>\n",
       "      <th>concavity_worst</th>\n",
       "      <th>concave points_worst</th>\n",
       "      <th>symmetry_worst</th>\n",
       "      <th>fractal_dimension_worst</th>\n",
       "      <th>Unnamed: 32</th>\n",
       "    </tr>\n",
       "  </thead>\n",
       "  <tbody>\n",
       "    <tr>\n",
       "      <th>0</th>\n",
       "      <td>842302</td>\n",
       "      <td>M</td>\n",
       "      <td>17.99</td>\n",
       "      <td>10.38</td>\n",
       "      <td>122.80</td>\n",
       "      <td>1001.0</td>\n",
       "      <td>0.11840</td>\n",
       "      <td>0.27760</td>\n",
       "      <td>0.3001</td>\n",
       "      <td>0.14710</td>\n",
       "      <td>...</td>\n",
       "      <td>17.33</td>\n",
       "      <td>184.60</td>\n",
       "      <td>2019.0</td>\n",
       "      <td>0.1622</td>\n",
       "      <td>0.6656</td>\n",
       "      <td>0.7119</td>\n",
       "      <td>0.2654</td>\n",
       "      <td>0.4601</td>\n",
       "      <td>0.11890</td>\n",
       "      <td>NaN</td>\n",
       "    </tr>\n",
       "    <tr>\n",
       "      <th>1</th>\n",
       "      <td>842517</td>\n",
       "      <td>M</td>\n",
       "      <td>20.57</td>\n",
       "      <td>17.77</td>\n",
       "      <td>132.90</td>\n",
       "      <td>1326.0</td>\n",
       "      <td>0.08474</td>\n",
       "      <td>0.07864</td>\n",
       "      <td>0.0869</td>\n",
       "      <td>0.07017</td>\n",
       "      <td>...</td>\n",
       "      <td>23.41</td>\n",
       "      <td>158.80</td>\n",
       "      <td>1956.0</td>\n",
       "      <td>0.1238</td>\n",
       "      <td>0.1866</td>\n",
       "      <td>0.2416</td>\n",
       "      <td>0.1860</td>\n",
       "      <td>0.2750</td>\n",
       "      <td>0.08902</td>\n",
       "      <td>NaN</td>\n",
       "    </tr>\n",
       "    <tr>\n",
       "      <th>2</th>\n",
       "      <td>84300903</td>\n",
       "      <td>M</td>\n",
       "      <td>19.69</td>\n",
       "      <td>21.25</td>\n",
       "      <td>130.00</td>\n",
       "      <td>1203.0</td>\n",
       "      <td>0.10960</td>\n",
       "      <td>0.15990</td>\n",
       "      <td>0.1974</td>\n",
       "      <td>0.12790</td>\n",
       "      <td>...</td>\n",
       "      <td>25.53</td>\n",
       "      <td>152.50</td>\n",
       "      <td>1709.0</td>\n",
       "      <td>0.1444</td>\n",
       "      <td>0.4245</td>\n",
       "      <td>0.4504</td>\n",
       "      <td>0.2430</td>\n",
       "      <td>0.3613</td>\n",
       "      <td>0.08758</td>\n",
       "      <td>NaN</td>\n",
       "    </tr>\n",
       "    <tr>\n",
       "      <th>3</th>\n",
       "      <td>84348301</td>\n",
       "      <td>M</td>\n",
       "      <td>11.42</td>\n",
       "      <td>20.38</td>\n",
       "      <td>77.58</td>\n",
       "      <td>386.1</td>\n",
       "      <td>0.14250</td>\n",
       "      <td>0.28390</td>\n",
       "      <td>0.2414</td>\n",
       "      <td>0.10520</td>\n",
       "      <td>...</td>\n",
       "      <td>26.50</td>\n",
       "      <td>98.87</td>\n",
       "      <td>567.7</td>\n",
       "      <td>0.2098</td>\n",
       "      <td>0.8663</td>\n",
       "      <td>0.6869</td>\n",
       "      <td>0.2575</td>\n",
       "      <td>0.6638</td>\n",
       "      <td>0.17300</td>\n",
       "      <td>NaN</td>\n",
       "    </tr>\n",
       "    <tr>\n",
       "      <th>4</th>\n",
       "      <td>84358402</td>\n",
       "      <td>M</td>\n",
       "      <td>20.29</td>\n",
       "      <td>14.34</td>\n",
       "      <td>135.10</td>\n",
       "      <td>1297.0</td>\n",
       "      <td>0.10030</td>\n",
       "      <td>0.13280</td>\n",
       "      <td>0.1980</td>\n",
       "      <td>0.10430</td>\n",
       "      <td>...</td>\n",
       "      <td>16.67</td>\n",
       "      <td>152.20</td>\n",
       "      <td>1575.0</td>\n",
       "      <td>0.1374</td>\n",
       "      <td>0.2050</td>\n",
       "      <td>0.4000</td>\n",
       "      <td>0.1625</td>\n",
       "      <td>0.2364</td>\n",
       "      <td>0.07678</td>\n",
       "      <td>NaN</td>\n",
       "    </tr>\n",
       "  </tbody>\n",
       "</table>\n",
       "<p>5 rows × 33 columns</p>\n",
       "</div>"
      ],
      "text/plain": [
       "         id diagnosis  radius_mean  texture_mean  perimeter_mean  area_mean  \\\n",
       "0    842302         M        17.99         10.38          122.80     1001.0   \n",
       "1    842517         M        20.57         17.77          132.90     1326.0   \n",
       "2  84300903         M        19.69         21.25          130.00     1203.0   \n",
       "3  84348301         M        11.42         20.38           77.58      386.1   \n",
       "4  84358402         M        20.29         14.34          135.10     1297.0   \n",
       "\n",
       "   smoothness_mean  compactness_mean  concavity_mean  concave points_mean  \\\n",
       "0          0.11840           0.27760          0.3001              0.14710   \n",
       "1          0.08474           0.07864          0.0869              0.07017   \n",
       "2          0.10960           0.15990          0.1974              0.12790   \n",
       "3          0.14250           0.28390          0.2414              0.10520   \n",
       "4          0.10030           0.13280          0.1980              0.10430   \n",
       "\n",
       "   ...  texture_worst  perimeter_worst  area_worst  smoothness_worst  \\\n",
       "0  ...          17.33           184.60      2019.0            0.1622   \n",
       "1  ...          23.41           158.80      1956.0            0.1238   \n",
       "2  ...          25.53           152.50      1709.0            0.1444   \n",
       "3  ...          26.50            98.87       567.7            0.2098   \n",
       "4  ...          16.67           152.20      1575.0            0.1374   \n",
       "\n",
       "   compactness_worst  concavity_worst  concave points_worst  symmetry_worst  \\\n",
       "0             0.6656           0.7119                0.2654          0.4601   \n",
       "1             0.1866           0.2416                0.1860          0.2750   \n",
       "2             0.4245           0.4504                0.2430          0.3613   \n",
       "3             0.8663           0.6869                0.2575          0.6638   \n",
       "4             0.2050           0.4000                0.1625          0.2364   \n",
       "\n",
       "   fractal_dimension_worst  Unnamed: 32  \n",
       "0                  0.11890          NaN  \n",
       "1                  0.08902          NaN  \n",
       "2                  0.08758          NaN  \n",
       "3                  0.17300          NaN  \n",
       "4                  0.07678          NaN  \n",
       "\n",
       "[5 rows x 33 columns]"
      ]
     },
     "execution_count": 5,
     "metadata": {},
     "output_type": "execute_result"
    }
   ],
   "source": [
    "raw_data.head()"
   ]
  },
  {
   "cell_type": "code",
   "execution_count": 6,
   "metadata": {},
   "outputs": [
    {
     "name": "stdout",
     "output_type": "stream",
     "text": [
      "<class 'pandas.core.frame.DataFrame'>\n",
      "RangeIndex: 569 entries, 0 to 568\n",
      "Data columns (total 33 columns):\n",
      " #   Column                   Non-Null Count  Dtype  \n",
      "---  ------                   --------------  -----  \n",
      " 0   id                       569 non-null    int64  \n",
      " 1   diagnosis                569 non-null    object \n",
      " 2   radius_mean              569 non-null    float64\n",
      " 3   texture_mean             569 non-null    float64\n",
      " 4   perimeter_mean           569 non-null    float64\n",
      " 5   area_mean                569 non-null    float64\n",
      " 6   smoothness_mean          569 non-null    float64\n",
      " 7   compactness_mean         569 non-null    float64\n",
      " 8   concavity_mean           569 non-null    float64\n",
      " 9   concave points_mean      569 non-null    float64\n",
      " 10  symmetry_mean            569 non-null    float64\n",
      " 11  fractal_dimension_mean   569 non-null    float64\n",
      " 12  radius_se                569 non-null    float64\n",
      " 13  texture_se               569 non-null    float64\n",
      " 14  perimeter_se             569 non-null    float64\n",
      " 15  area_se                  569 non-null    float64\n",
      " 16  smoothness_se            569 non-null    float64\n",
      " 17  compactness_se           569 non-null    float64\n",
      " 18  concavity_se             569 non-null    float64\n",
      " 19  concave points_se        569 non-null    float64\n",
      " 20  symmetry_se              569 non-null    float64\n",
      " 21  fractal_dimension_se     569 non-null    float64\n",
      " 22  radius_worst             569 non-null    float64\n",
      " 23  texture_worst            569 non-null    float64\n",
      " 24  perimeter_worst          569 non-null    float64\n",
      " 25  area_worst               569 non-null    float64\n",
      " 26  smoothness_worst         569 non-null    float64\n",
      " 27  compactness_worst        569 non-null    float64\n",
      " 28  concavity_worst          569 non-null    float64\n",
      " 29  concave points_worst     569 non-null    float64\n",
      " 30  symmetry_worst           569 non-null    float64\n",
      " 31  fractal_dimension_worst  569 non-null    float64\n",
      " 32  Unnamed: 32              0 non-null      float64\n",
      "dtypes: float64(31), int64(1), object(1)\n",
      "memory usage: 146.8+ KB\n"
     ]
    }
   ],
   "source": [
    "raw_data.info()\n",
    "# Hence no null values found in the data"
   ]
  },
  {
   "cell_type": "code",
   "execution_count": 7,
   "metadata": {},
   "outputs": [],
   "source": [
    "# Making a copy of data so that no unwanted changes happen to the original data\n",
    "raw_data_copy = raw_data.drop(labels=[raw_data.columns[0],raw_data.columns[32]],axis=1)"
   ]
  },
  {
   "cell_type": "code",
   "execution_count": 8,
   "metadata": {},
   "outputs": [
    {
     "data": {
      "text/html": [
       "<div>\n",
       "<style scoped>\n",
       "    .dataframe tbody tr th:only-of-type {\n",
       "        vertical-align: middle;\n",
       "    }\n",
       "\n",
       "    .dataframe tbody tr th {\n",
       "        vertical-align: top;\n",
       "    }\n",
       "\n",
       "    .dataframe thead th {\n",
       "        text-align: right;\n",
       "    }\n",
       "</style>\n",
       "<table border=\"1\" class=\"dataframe\">\n",
       "  <thead>\n",
       "    <tr style=\"text-align: right;\">\n",
       "      <th></th>\n",
       "      <th>diagnosis</th>\n",
       "      <th>radius_mean</th>\n",
       "      <th>texture_mean</th>\n",
       "      <th>perimeter_mean</th>\n",
       "      <th>area_mean</th>\n",
       "      <th>smoothness_mean</th>\n",
       "      <th>compactness_mean</th>\n",
       "      <th>concavity_mean</th>\n",
       "      <th>concave points_mean</th>\n",
       "      <th>symmetry_mean</th>\n",
       "      <th>...</th>\n",
       "      <th>radius_worst</th>\n",
       "      <th>texture_worst</th>\n",
       "      <th>perimeter_worst</th>\n",
       "      <th>area_worst</th>\n",
       "      <th>smoothness_worst</th>\n",
       "      <th>compactness_worst</th>\n",
       "      <th>concavity_worst</th>\n",
       "      <th>concave points_worst</th>\n",
       "      <th>symmetry_worst</th>\n",
       "      <th>fractal_dimension_worst</th>\n",
       "    </tr>\n",
       "  </thead>\n",
       "  <tbody>\n",
       "    <tr>\n",
       "      <th>0</th>\n",
       "      <td>M</td>\n",
       "      <td>17.99</td>\n",
       "      <td>10.38</td>\n",
       "      <td>122.80</td>\n",
       "      <td>1001.0</td>\n",
       "      <td>0.11840</td>\n",
       "      <td>0.27760</td>\n",
       "      <td>0.3001</td>\n",
       "      <td>0.14710</td>\n",
       "      <td>0.2419</td>\n",
       "      <td>...</td>\n",
       "      <td>25.38</td>\n",
       "      <td>17.33</td>\n",
       "      <td>184.60</td>\n",
       "      <td>2019.0</td>\n",
       "      <td>0.1622</td>\n",
       "      <td>0.6656</td>\n",
       "      <td>0.7119</td>\n",
       "      <td>0.2654</td>\n",
       "      <td>0.4601</td>\n",
       "      <td>0.11890</td>\n",
       "    </tr>\n",
       "    <tr>\n",
       "      <th>1</th>\n",
       "      <td>M</td>\n",
       "      <td>20.57</td>\n",
       "      <td>17.77</td>\n",
       "      <td>132.90</td>\n",
       "      <td>1326.0</td>\n",
       "      <td>0.08474</td>\n",
       "      <td>0.07864</td>\n",
       "      <td>0.0869</td>\n",
       "      <td>0.07017</td>\n",
       "      <td>0.1812</td>\n",
       "      <td>...</td>\n",
       "      <td>24.99</td>\n",
       "      <td>23.41</td>\n",
       "      <td>158.80</td>\n",
       "      <td>1956.0</td>\n",
       "      <td>0.1238</td>\n",
       "      <td>0.1866</td>\n",
       "      <td>0.2416</td>\n",
       "      <td>0.1860</td>\n",
       "      <td>0.2750</td>\n",
       "      <td>0.08902</td>\n",
       "    </tr>\n",
       "    <tr>\n",
       "      <th>2</th>\n",
       "      <td>M</td>\n",
       "      <td>19.69</td>\n",
       "      <td>21.25</td>\n",
       "      <td>130.00</td>\n",
       "      <td>1203.0</td>\n",
       "      <td>0.10960</td>\n",
       "      <td>0.15990</td>\n",
       "      <td>0.1974</td>\n",
       "      <td>0.12790</td>\n",
       "      <td>0.2069</td>\n",
       "      <td>...</td>\n",
       "      <td>23.57</td>\n",
       "      <td>25.53</td>\n",
       "      <td>152.50</td>\n",
       "      <td>1709.0</td>\n",
       "      <td>0.1444</td>\n",
       "      <td>0.4245</td>\n",
       "      <td>0.4504</td>\n",
       "      <td>0.2430</td>\n",
       "      <td>0.3613</td>\n",
       "      <td>0.08758</td>\n",
       "    </tr>\n",
       "    <tr>\n",
       "      <th>3</th>\n",
       "      <td>M</td>\n",
       "      <td>11.42</td>\n",
       "      <td>20.38</td>\n",
       "      <td>77.58</td>\n",
       "      <td>386.1</td>\n",
       "      <td>0.14250</td>\n",
       "      <td>0.28390</td>\n",
       "      <td>0.2414</td>\n",
       "      <td>0.10520</td>\n",
       "      <td>0.2597</td>\n",
       "      <td>...</td>\n",
       "      <td>14.91</td>\n",
       "      <td>26.50</td>\n",
       "      <td>98.87</td>\n",
       "      <td>567.7</td>\n",
       "      <td>0.2098</td>\n",
       "      <td>0.8663</td>\n",
       "      <td>0.6869</td>\n",
       "      <td>0.2575</td>\n",
       "      <td>0.6638</td>\n",
       "      <td>0.17300</td>\n",
       "    </tr>\n",
       "    <tr>\n",
       "      <th>4</th>\n",
       "      <td>M</td>\n",
       "      <td>20.29</td>\n",
       "      <td>14.34</td>\n",
       "      <td>135.10</td>\n",
       "      <td>1297.0</td>\n",
       "      <td>0.10030</td>\n",
       "      <td>0.13280</td>\n",
       "      <td>0.1980</td>\n",
       "      <td>0.10430</td>\n",
       "      <td>0.1809</td>\n",
       "      <td>...</td>\n",
       "      <td>22.54</td>\n",
       "      <td>16.67</td>\n",
       "      <td>152.20</td>\n",
       "      <td>1575.0</td>\n",
       "      <td>0.1374</td>\n",
       "      <td>0.2050</td>\n",
       "      <td>0.4000</td>\n",
       "      <td>0.1625</td>\n",
       "      <td>0.2364</td>\n",
       "      <td>0.07678</td>\n",
       "    </tr>\n",
       "  </tbody>\n",
       "</table>\n",
       "<p>5 rows × 31 columns</p>\n",
       "</div>"
      ],
      "text/plain": [
       "  diagnosis  radius_mean  texture_mean  perimeter_mean  area_mean  \\\n",
       "0         M        17.99         10.38          122.80     1001.0   \n",
       "1         M        20.57         17.77          132.90     1326.0   \n",
       "2         M        19.69         21.25          130.00     1203.0   \n",
       "3         M        11.42         20.38           77.58      386.1   \n",
       "4         M        20.29         14.34          135.10     1297.0   \n",
       "\n",
       "   smoothness_mean  compactness_mean  concavity_mean  concave points_mean  \\\n",
       "0          0.11840           0.27760          0.3001              0.14710   \n",
       "1          0.08474           0.07864          0.0869              0.07017   \n",
       "2          0.10960           0.15990          0.1974              0.12790   \n",
       "3          0.14250           0.28390          0.2414              0.10520   \n",
       "4          0.10030           0.13280          0.1980              0.10430   \n",
       "\n",
       "   symmetry_mean  ...  radius_worst  texture_worst  perimeter_worst  \\\n",
       "0         0.2419  ...         25.38          17.33           184.60   \n",
       "1         0.1812  ...         24.99          23.41           158.80   \n",
       "2         0.2069  ...         23.57          25.53           152.50   \n",
       "3         0.2597  ...         14.91          26.50            98.87   \n",
       "4         0.1809  ...         22.54          16.67           152.20   \n",
       "\n",
       "   area_worst  smoothness_worst  compactness_worst  concavity_worst  \\\n",
       "0      2019.0            0.1622             0.6656           0.7119   \n",
       "1      1956.0            0.1238             0.1866           0.2416   \n",
       "2      1709.0            0.1444             0.4245           0.4504   \n",
       "3       567.7            0.2098             0.8663           0.6869   \n",
       "4      1575.0            0.1374             0.2050           0.4000   \n",
       "\n",
       "   concave points_worst  symmetry_worst  fractal_dimension_worst  \n",
       "0                0.2654          0.4601                  0.11890  \n",
       "1                0.1860          0.2750                  0.08902  \n",
       "2                0.2430          0.3613                  0.08758  \n",
       "3                0.2575          0.6638                  0.17300  \n",
       "4                0.1625          0.2364                  0.07678  \n",
       "\n",
       "[5 rows x 31 columns]"
      ]
     },
     "execution_count": 8,
     "metadata": {},
     "output_type": "execute_result"
    }
   ],
   "source": [
    "raw_data_copy.head()"
   ]
  },
  {
   "cell_type": "markdown",
   "metadata": {},
   "source": [
    "### Preparing the dataset"
   ]
  },
  {
   "cell_type": "code",
   "execution_count": 9,
   "metadata": {},
   "outputs": [],
   "source": [
    "class PrepareData:\n",
    "    def __init__(self,data):\n",
    "        self.data = data\n",
    "        self.positive_class_data = None\n",
    "        self.negative_class_data = None\n",
    "        self.train_data = None\n",
    "        self.train_labels = None\n",
    "        self.test_data = None\n",
    "        self.test_labels = None\n",
    "    def separateDataUsingClass(self):\n",
    "        '''\n",
    "        Separates data into negative and positive class\n",
    "        Negative Class : Data points with diagnosis equal to \"B\"\n",
    "        Positive Class : Data points with diagnosis equal to \"M\"\n",
    "        '''\n",
    "        self.negative_class_data = self.data[self.data['diagnosis'] == 'B']\n",
    "        self.positive_class_data = self.data[self.data['diagnosis'] == 'M']\n",
    "#         return self.positive_class_data , self.negative_class_data\n",
    "    def train_test_split(self):\n",
    "        '''\n",
    "        This function first divides the positive and negative data into train data and test data\n",
    "        Then concatenates a different class data into train_data and test_data.\n",
    "        It also preapres train_labels and test_labels.\n",
    "        \n",
    "        Returns :\n",
    "        train_data -> training dataset with both positive and negative class data\n",
    "        train_labels -> training labels with the \"B\" , \"M\" replaced with \"False\" and \"True\"\n",
    "        test data -> test dataset with positive and negative class data.\n",
    "        test_labels - test labels with the \"B\" , \"M\" replaced with \"False\" and \"True\"\n",
    "        '''\n",
    "        number_of_training_data_rows = int(0.8*self.data.shape[0])\n",
    "        self.separateDataUsingClass()\n",
    "        negative_class_training_data = self.negative_class_data.iloc[0:number_of_training_data_rows//2]\n",
    "        negative_class_test_data = self.negative_class_data.iloc[number_of_training_data_rows//2:]\n",
    "        positive_class_training_data = self.positive_class_data.iloc[0:number_of_training_data_rows//2]\n",
    "        positive_class_test_data = self.positive_class_data.iloc[number_of_training_data_rows//2:]\n",
    "        self.train_data  = pd.concat([positive_class_training_data,negative_class_training_data])\n",
    "        self.test_data = pd.concat([positive_class_test_data,negative_class_test_data])\n",
    "        self.train_labels = self.train_data['diagnosis']\n",
    "        self.train_labels.replace(to_replace=['B','M'],value=[False,True],inplace=True)\n",
    "        self.test_labels = self.test_data['diagnosis']\n",
    "        self.test_labels.replace(to_replace=['B','M'],value=[False,True],inplace=True)\n",
    "        return self.train_data, self.train_labels,self.test_data , self.test_labels\n",
    "    "
   ]
  },
  {
   "cell_type": "code",
   "execution_count": 10,
   "metadata": {},
   "outputs": [],
   "source": [
    "data = PrepareData(raw_data_copy)"
   ]
  },
  {
   "cell_type": "code",
   "execution_count": 11,
   "metadata": {},
   "outputs": [],
   "source": [
    "train_data , train_labels , test_data ,test_labels = data.train_test_split()"
   ]
  },
  {
   "cell_type": "code",
   "execution_count": 15,
   "metadata": {
    "scrolled": false
   },
   "outputs": [
    {
     "data": {
      "application/vnd.plotly.v1+json": {
       "config": {
        "plotlyServerURL": "https://plot.ly"
       },
       "data": [
        {
         "alignmentgroup": "True",
         "bingroup": "x",
         "hovertemplate": "diagnosis=True<br>radius_mean=%{x}<br>count=%{y}<extra></extra>",
         "legendgroup": "True",
         "marker": {
          "color": "#636efa"
         },
         "name": "True",
         "offsetgroup": "True",
         "orientation": "v",
         "showlegend": true,
         "type": "histogram",
         "x": [
          17.99,
          20.57,
          19.69,
          11.42,
          20.29,
          12.45,
          18.25,
          13.71,
          13,
          12.46,
          16.02,
          15.78,
          19.17,
          15.85,
          13.73,
          14.54,
          14.68,
          16.13,
          19.81,
          15.34,
          21.16,
          16.65,
          17.14,
          14.58,
          18.61,
          15.3,
          17.57,
          18.63,
          11.84,
          17.02,
          19.27,
          16.13,
          16.74,
          14.25,
          14.99,
          13.48,
          13.44,
          10.95,
          19.07,
          13.28,
          13.17,
          18.65,
          13.17,
          18.22,
          15.1,
          19.21,
          14.71,
          14.25,
          12.68,
          14.78,
          18.94,
          17.2,
          13.8,
          16.07,
          18.05,
          20.18,
          25.22,
          19.1,
          18.46,
          14.48,
          19.02,
          15.37,
          15.06,
          20.26,
          14.42,
          13.61,
          13.11,
          22.27,
          14.87,
          15.78,
          17.95,
          18.66,
          24.25,
          13.61,
          19,
          19.79,
          15.46,
          16.16,
          18.45,
          12.77,
          14.95,
          16.11,
          11.8,
          17.68,
          19.19,
          19.59,
          23.27,
          16.78,
          17.47,
          13.43,
          15.46,
          16.46,
          27.22,
          21.09,
          15.7,
          15.28,
          18.31,
          14.22,
          12.34,
          14.86,
          13.77,
          18.08,
          19.18,
          14.45,
          17.54,
          23.29,
          13.81,
          15.12,
          17.01,
          20.58,
          28.11,
          17.42,
          14.19,
          13.86,
          19.8,
          19.53,
          15.75,
          12.83,
          17.05,
          20.51,
          23.21,
          20.48,
          17.46,
          19.4,
          20.94,
          19.73,
          17.3,
          19.45,
          13.96,
          19.55,
          15.32,
          15.66,
          15.53,
          20.31,
          17.35,
          17.29,
          15.61,
          17.19,
          20.73,
          21.75,
          17.93,
          18.81,
          19.16,
          19.4,
          16.24,
          11.76,
          19.53,
          20.09,
          18.22,
          20.16,
          20.34,
          16.27,
          16.26,
          16.03,
          17.06,
          18.77,
          23.51,
          19.68,
          15.75,
          25.73,
          15.08,
          20.44,
          20.2,
          21.71,
          22.01,
          16.35,
          21.37,
          20.64,
          11.08,
          14.6,
          19.55,
          15.49,
          21.61,
          17.91,
          17.99,
          15.13,
          15.5,
          14.9,
          20.18,
          18.82,
          13.98,
          17.27,
          18.03,
          17.75,
          21.1,
          19.59,
          17.08,
          27.42,
          17.6,
          16.25,
          19.44,
          16.69,
          18.01,
          18.49,
          20.59,
          13.82,
          23.09,
          15.46,
          13.4,
          15.05,
          18.31,
          19.89,
          24.63,
          20.47,
          20.55,
          14.27,
          15.22,
          20.92,
          21.56,
          20.13,
          16.6,
          20.6
         ],
         "xaxis": "x",
         "yaxis": "y"
        },
        {
         "alignmentgroup": "True",
         "bingroup": "x",
         "hovertemplate": "diagnosis=False<br>radius_mean=%{x}<br>count=%{y}<extra></extra>",
         "legendgroup": "False",
         "marker": {
          "color": "#EF553B"
         },
         "name": "False",
         "offsetgroup": "False",
         "orientation": "v",
         "showlegend": true,
         "type": "histogram",
         "x": [
          13.54,
          13.08,
          9.504,
          13.03,
          8.196,
          12.05,
          13.49,
          11.76,
          13.64,
          11.94,
          11.52,
          13.05,
          8.618,
          10.17,
          8.598,
          9.173,
          9.465,
          11.31,
          9.029,
          12.78,
          8.888,
          12.31,
          13.53,
          12.86,
          11.45,
          13.34,
          12,
          12.36,
          14.64,
          14.62,
          13.27,
          13.45,
          12.18,
          9.787,
          11.6,
          6.981,
          12.18,
          9.876,
          10.49,
          11.64,
          12.36,
          11.34,
          9.777,
          12.63,
          14.26,
          10.51,
          8.726,
          11.93,
          8.95,
          11.41,
          14.5,
          13.37,
          13.85,
          15.1,
          12.19,
          15.71,
          11.71,
          11.43,
          11.28,
          9.738,
          11.43,
          12.9,
          10.75,
          11.9,
          14.95,
          14.44,
          13.74,
          13,
          8.219,
          9.731,
          11.15,
          13.15,
          12.25,
          16.84,
          12.06,
          10.9,
          11.75,
          12.34,
          14.97,
          10.8,
          14.97,
          12.32,
          11.08,
          10.66,
          8.671,
          9.904,
          13.01,
          12.81,
          11.41,
          10.08,
          11.71,
          11.81,
          12.3,
          12.77,
          9.72,
          12.91,
          12.23,
          12.47,
          9.876,
          13.11,
          15.27,
          11.84,
          11.89,
          10.2,
          13.65,
          13.56,
          10.18,
          13.27,
          14.34,
          10.44,
          15,
          12.62,
          11.32,
          11.22,
          9.567,
          14.03,
          14.22,
          13.64,
          12.42,
          11.3,
          13.75,
          10.48,
          13.2,
          12.89,
          10.65,
          11.52,
          11.5,
          10.6,
          13.59,
          12.87,
          10.71,
          14.29,
          11.29,
          9.742,
          11.89,
          11.33,
          13.59,
          13.85,
          11.74,
          12.89,
          12.58,
          11.94,
          12.89,
          11.26,
          11.37,
          14.41,
          14.96,
          12.95,
          11.85,
          12.72,
          13.77,
          10.91,
          14.26,
          10.51,
          12.46,
          10.49,
          11.46,
          11.6,
          13.2,
          9,
          13.5,
          13.05,
          11.7,
          14.61,
          12.76,
          11.54,
          8.597,
          12.49,
          12.18,
          9.042,
          12.43,
          10.25,
          12.86,
          12.2,
          12.67,
          14.11,
          12.03,
          12.98,
          11.22,
          11.25,
          12.3,
          12.99,
          10.05,
          14.42,
          9.606,
          11.06,
          11.71,
          10.26,
          12.06,
          14.76,
          11.47,
          11.95,
          11.66,
          11.14,
          12.56,
          13.05,
          13.87,
          8.878,
          9.436,
          12.54,
          13.3,
          12.76,
          16.5,
          13.4,
          12.21,
          15.19,
          13.69,
          16.17,
          10.57,
          13.46,
          13.66,
          11.27,
          11.04,
          12.05,
          12.39,
          13.28,
          12.21,
          13.88,
          11.27,
          10.26,
          8.734,
          12.1,
          14.06,
          13.51,
          12.8,
          11.06,
          11.8
         ],
         "xaxis": "x",
         "yaxis": "y"
        }
       ],
       "layout": {
        "barmode": "relative",
        "legend": {
         "title": {
          "text": "diagnosis"
         },
         "tracegroupgap": 0
        },
        "template": {
         "data": {
          "bar": [
           {
            "error_x": {
             "color": "#2a3f5f"
            },
            "error_y": {
             "color": "#2a3f5f"
            },
            "marker": {
             "line": {
              "color": "#E5ECF6",
              "width": 0.5
             }
            },
            "type": "bar"
           }
          ],
          "barpolar": [
           {
            "marker": {
             "line": {
              "color": "#E5ECF6",
              "width": 0.5
             }
            },
            "type": "barpolar"
           }
          ],
          "carpet": [
           {
            "aaxis": {
             "endlinecolor": "#2a3f5f",
             "gridcolor": "white",
             "linecolor": "white",
             "minorgridcolor": "white",
             "startlinecolor": "#2a3f5f"
            },
            "baxis": {
             "endlinecolor": "#2a3f5f",
             "gridcolor": "white",
             "linecolor": "white",
             "minorgridcolor": "white",
             "startlinecolor": "#2a3f5f"
            },
            "type": "carpet"
           }
          ],
          "choropleth": [
           {
            "colorbar": {
             "outlinewidth": 0,
             "ticks": ""
            },
            "type": "choropleth"
           }
          ],
          "contour": [
           {
            "colorbar": {
             "outlinewidth": 0,
             "ticks": ""
            },
            "colorscale": [
             [
              0,
              "#0d0887"
             ],
             [
              0.1111111111111111,
              "#46039f"
             ],
             [
              0.2222222222222222,
              "#7201a8"
             ],
             [
              0.3333333333333333,
              "#9c179e"
             ],
             [
              0.4444444444444444,
              "#bd3786"
             ],
             [
              0.5555555555555556,
              "#d8576b"
             ],
             [
              0.6666666666666666,
              "#ed7953"
             ],
             [
              0.7777777777777778,
              "#fb9f3a"
             ],
             [
              0.8888888888888888,
              "#fdca26"
             ],
             [
              1,
              "#f0f921"
             ]
            ],
            "type": "contour"
           }
          ],
          "contourcarpet": [
           {
            "colorbar": {
             "outlinewidth": 0,
             "ticks": ""
            },
            "type": "contourcarpet"
           }
          ],
          "heatmap": [
           {
            "colorbar": {
             "outlinewidth": 0,
             "ticks": ""
            },
            "colorscale": [
             [
              0,
              "#0d0887"
             ],
             [
              0.1111111111111111,
              "#46039f"
             ],
             [
              0.2222222222222222,
              "#7201a8"
             ],
             [
              0.3333333333333333,
              "#9c179e"
             ],
             [
              0.4444444444444444,
              "#bd3786"
             ],
             [
              0.5555555555555556,
              "#d8576b"
             ],
             [
              0.6666666666666666,
              "#ed7953"
             ],
             [
              0.7777777777777778,
              "#fb9f3a"
             ],
             [
              0.8888888888888888,
              "#fdca26"
             ],
             [
              1,
              "#f0f921"
             ]
            ],
            "type": "heatmap"
           }
          ],
          "heatmapgl": [
           {
            "colorbar": {
             "outlinewidth": 0,
             "ticks": ""
            },
            "colorscale": [
             [
              0,
              "#0d0887"
             ],
             [
              0.1111111111111111,
              "#46039f"
             ],
             [
              0.2222222222222222,
              "#7201a8"
             ],
             [
              0.3333333333333333,
              "#9c179e"
             ],
             [
              0.4444444444444444,
              "#bd3786"
             ],
             [
              0.5555555555555556,
              "#d8576b"
             ],
             [
              0.6666666666666666,
              "#ed7953"
             ],
             [
              0.7777777777777778,
              "#fb9f3a"
             ],
             [
              0.8888888888888888,
              "#fdca26"
             ],
             [
              1,
              "#f0f921"
             ]
            ],
            "type": "heatmapgl"
           }
          ],
          "histogram": [
           {
            "marker": {
             "colorbar": {
              "outlinewidth": 0,
              "ticks": ""
             }
            },
            "type": "histogram"
           }
          ],
          "histogram2d": [
           {
            "colorbar": {
             "outlinewidth": 0,
             "ticks": ""
            },
            "colorscale": [
             [
              0,
              "#0d0887"
             ],
             [
              0.1111111111111111,
              "#46039f"
             ],
             [
              0.2222222222222222,
              "#7201a8"
             ],
             [
              0.3333333333333333,
              "#9c179e"
             ],
             [
              0.4444444444444444,
              "#bd3786"
             ],
             [
              0.5555555555555556,
              "#d8576b"
             ],
             [
              0.6666666666666666,
              "#ed7953"
             ],
             [
              0.7777777777777778,
              "#fb9f3a"
             ],
             [
              0.8888888888888888,
              "#fdca26"
             ],
             [
              1,
              "#f0f921"
             ]
            ],
            "type": "histogram2d"
           }
          ],
          "histogram2dcontour": [
           {
            "colorbar": {
             "outlinewidth": 0,
             "ticks": ""
            },
            "colorscale": [
             [
              0,
              "#0d0887"
             ],
             [
              0.1111111111111111,
              "#46039f"
             ],
             [
              0.2222222222222222,
              "#7201a8"
             ],
             [
              0.3333333333333333,
              "#9c179e"
             ],
             [
              0.4444444444444444,
              "#bd3786"
             ],
             [
              0.5555555555555556,
              "#d8576b"
             ],
             [
              0.6666666666666666,
              "#ed7953"
             ],
             [
              0.7777777777777778,
              "#fb9f3a"
             ],
             [
              0.8888888888888888,
              "#fdca26"
             ],
             [
              1,
              "#f0f921"
             ]
            ],
            "type": "histogram2dcontour"
           }
          ],
          "mesh3d": [
           {
            "colorbar": {
             "outlinewidth": 0,
             "ticks": ""
            },
            "type": "mesh3d"
           }
          ],
          "parcoords": [
           {
            "line": {
             "colorbar": {
              "outlinewidth": 0,
              "ticks": ""
             }
            },
            "type": "parcoords"
           }
          ],
          "pie": [
           {
            "automargin": true,
            "type": "pie"
           }
          ],
          "scatter": [
           {
            "marker": {
             "colorbar": {
              "outlinewidth": 0,
              "ticks": ""
             }
            },
            "type": "scatter"
           }
          ],
          "scatter3d": [
           {
            "line": {
             "colorbar": {
              "outlinewidth": 0,
              "ticks": ""
             }
            },
            "marker": {
             "colorbar": {
              "outlinewidth": 0,
              "ticks": ""
             }
            },
            "type": "scatter3d"
           }
          ],
          "scattercarpet": [
           {
            "marker": {
             "colorbar": {
              "outlinewidth": 0,
              "ticks": ""
             }
            },
            "type": "scattercarpet"
           }
          ],
          "scattergeo": [
           {
            "marker": {
             "colorbar": {
              "outlinewidth": 0,
              "ticks": ""
             }
            },
            "type": "scattergeo"
           }
          ],
          "scattergl": [
           {
            "marker": {
             "colorbar": {
              "outlinewidth": 0,
              "ticks": ""
             }
            },
            "type": "scattergl"
           }
          ],
          "scattermapbox": [
           {
            "marker": {
             "colorbar": {
              "outlinewidth": 0,
              "ticks": ""
             }
            },
            "type": "scattermapbox"
           }
          ],
          "scatterpolar": [
           {
            "marker": {
             "colorbar": {
              "outlinewidth": 0,
              "ticks": ""
             }
            },
            "type": "scatterpolar"
           }
          ],
          "scatterpolargl": [
           {
            "marker": {
             "colorbar": {
              "outlinewidth": 0,
              "ticks": ""
             }
            },
            "type": "scatterpolargl"
           }
          ],
          "scatterternary": [
           {
            "marker": {
             "colorbar": {
              "outlinewidth": 0,
              "ticks": ""
             }
            },
            "type": "scatterternary"
           }
          ],
          "surface": [
           {
            "colorbar": {
             "outlinewidth": 0,
             "ticks": ""
            },
            "colorscale": [
             [
              0,
              "#0d0887"
             ],
             [
              0.1111111111111111,
              "#46039f"
             ],
             [
              0.2222222222222222,
              "#7201a8"
             ],
             [
              0.3333333333333333,
              "#9c179e"
             ],
             [
              0.4444444444444444,
              "#bd3786"
             ],
             [
              0.5555555555555556,
              "#d8576b"
             ],
             [
              0.6666666666666666,
              "#ed7953"
             ],
             [
              0.7777777777777778,
              "#fb9f3a"
             ],
             [
              0.8888888888888888,
              "#fdca26"
             ],
             [
              1,
              "#f0f921"
             ]
            ],
            "type": "surface"
           }
          ],
          "table": [
           {
            "cells": {
             "fill": {
              "color": "#EBF0F8"
             },
             "line": {
              "color": "white"
             }
            },
            "header": {
             "fill": {
              "color": "#C8D4E3"
             },
             "line": {
              "color": "white"
             }
            },
            "type": "table"
           }
          ]
         },
         "layout": {
          "annotationdefaults": {
           "arrowcolor": "#2a3f5f",
           "arrowhead": 0,
           "arrowwidth": 1
          },
          "coloraxis": {
           "colorbar": {
            "outlinewidth": 0,
            "ticks": ""
           }
          },
          "colorscale": {
           "diverging": [
            [
             0,
             "#8e0152"
            ],
            [
             0.1,
             "#c51b7d"
            ],
            [
             0.2,
             "#de77ae"
            ],
            [
             0.3,
             "#f1b6da"
            ],
            [
             0.4,
             "#fde0ef"
            ],
            [
             0.5,
             "#f7f7f7"
            ],
            [
             0.6,
             "#e6f5d0"
            ],
            [
             0.7,
             "#b8e186"
            ],
            [
             0.8,
             "#7fbc41"
            ],
            [
             0.9,
             "#4d9221"
            ],
            [
             1,
             "#276419"
            ]
           ],
           "sequential": [
            [
             0,
             "#0d0887"
            ],
            [
             0.1111111111111111,
             "#46039f"
            ],
            [
             0.2222222222222222,
             "#7201a8"
            ],
            [
             0.3333333333333333,
             "#9c179e"
            ],
            [
             0.4444444444444444,
             "#bd3786"
            ],
            [
             0.5555555555555556,
             "#d8576b"
            ],
            [
             0.6666666666666666,
             "#ed7953"
            ],
            [
             0.7777777777777778,
             "#fb9f3a"
            ],
            [
             0.8888888888888888,
             "#fdca26"
            ],
            [
             1,
             "#f0f921"
            ]
           ],
           "sequentialminus": [
            [
             0,
             "#0d0887"
            ],
            [
             0.1111111111111111,
             "#46039f"
            ],
            [
             0.2222222222222222,
             "#7201a8"
            ],
            [
             0.3333333333333333,
             "#9c179e"
            ],
            [
             0.4444444444444444,
             "#bd3786"
            ],
            [
             0.5555555555555556,
             "#d8576b"
            ],
            [
             0.6666666666666666,
             "#ed7953"
            ],
            [
             0.7777777777777778,
             "#fb9f3a"
            ],
            [
             0.8888888888888888,
             "#fdca26"
            ],
            [
             1,
             "#f0f921"
            ]
           ]
          },
          "colorway": [
           "#636efa",
           "#EF553B",
           "#00cc96",
           "#ab63fa",
           "#FFA15A",
           "#19d3f3",
           "#FF6692",
           "#B6E880",
           "#FF97FF",
           "#FECB52"
          ],
          "font": {
           "color": "#2a3f5f"
          },
          "geo": {
           "bgcolor": "white",
           "lakecolor": "white",
           "landcolor": "#E5ECF6",
           "showlakes": true,
           "showland": true,
           "subunitcolor": "white"
          },
          "hoverlabel": {
           "align": "left"
          },
          "hovermode": "closest",
          "mapbox": {
           "style": "light"
          },
          "paper_bgcolor": "white",
          "plot_bgcolor": "#E5ECF6",
          "polar": {
           "angularaxis": {
            "gridcolor": "white",
            "linecolor": "white",
            "ticks": ""
           },
           "bgcolor": "#E5ECF6",
           "radialaxis": {
            "gridcolor": "white",
            "linecolor": "white",
            "ticks": ""
           }
          },
          "scene": {
           "xaxis": {
            "backgroundcolor": "#E5ECF6",
            "gridcolor": "white",
            "gridwidth": 2,
            "linecolor": "white",
            "showbackground": true,
            "ticks": "",
            "zerolinecolor": "white"
           },
           "yaxis": {
            "backgroundcolor": "#E5ECF6",
            "gridcolor": "white",
            "gridwidth": 2,
            "linecolor": "white",
            "showbackground": true,
            "ticks": "",
            "zerolinecolor": "white"
           },
           "zaxis": {
            "backgroundcolor": "#E5ECF6",
            "gridcolor": "white",
            "gridwidth": 2,
            "linecolor": "white",
            "showbackground": true,
            "ticks": "",
            "zerolinecolor": "white"
           }
          },
          "shapedefaults": {
           "line": {
            "color": "#2a3f5f"
           }
          },
          "ternary": {
           "aaxis": {
            "gridcolor": "white",
            "linecolor": "white",
            "ticks": ""
           },
           "baxis": {
            "gridcolor": "white",
            "linecolor": "white",
            "ticks": ""
           },
           "bgcolor": "#E5ECF6",
           "caxis": {
            "gridcolor": "white",
            "linecolor": "white",
            "ticks": ""
           }
          },
          "title": {
           "x": 0.05
          },
          "xaxis": {
           "automargin": true,
           "gridcolor": "white",
           "linecolor": "white",
           "ticks": "",
           "title": {
            "standoff": 15
           },
           "zerolinecolor": "white",
           "zerolinewidth": 2
          },
          "yaxis": {
           "automargin": true,
           "gridcolor": "white",
           "linecolor": "white",
           "ticks": "",
           "title": {
            "standoff": 15
           },
           "zerolinecolor": "white",
           "zerolinewidth": 2
          }
         }
        },
        "title": {
         "text": "Radius Mean Probablity Distribution"
        },
        "xaxis": {
         "anchor": "y",
         "domain": [
          0,
          1
         ],
         "title": {
          "text": "radius_mean"
         }
        },
        "yaxis": {
         "anchor": "x",
         "domain": [
          0,
          1
         ],
         "title": {
          "text": "count"
         }
        }
       }
      },
      "text/html": [
       "<div>                            <div id=\"51054e94-97d5-4725-bb12-4320f39213fb\" class=\"plotly-graph-div\" style=\"height:525px; width:100%;\"></div>            <script type=\"text/javascript\">                require([\"plotly\"], function(Plotly) {                    window.PLOTLYENV=window.PLOTLYENV || {};                                    if (document.getElementById(\"51054e94-97d5-4725-bb12-4320f39213fb\")) {                    Plotly.newPlot(                        \"51054e94-97d5-4725-bb12-4320f39213fb\",                        [{\"alignmentgroup\": \"True\", \"bingroup\": \"x\", \"hovertemplate\": \"diagnosis=True<br>radius_mean=%{x}<br>count=%{y}<extra></extra>\", \"legendgroup\": \"True\", \"marker\": {\"color\": \"#636efa\"}, \"name\": \"True\", \"offsetgroup\": \"True\", \"orientation\": \"v\", \"showlegend\": true, \"type\": \"histogram\", \"x\": [17.99, 20.57, 19.69, 11.42, 20.29, 12.45, 18.25, 13.71, 13.0, 12.46, 16.02, 15.78, 19.17, 15.85, 13.73, 14.54, 14.68, 16.13, 19.81, 15.34, 21.16, 16.65, 17.14, 14.58, 18.61, 15.3, 17.57, 18.63, 11.84, 17.02, 19.27, 16.13, 16.74, 14.25, 14.99, 13.48, 13.44, 10.95, 19.07, 13.28, 13.17, 18.65, 13.17, 18.22, 15.1, 19.21, 14.71, 14.25, 12.68, 14.78, 18.94, 17.2, 13.8, 16.07, 18.05, 20.18, 25.22, 19.1, 18.46, 14.48, 19.02, 15.37, 15.06, 20.26, 14.42, 13.61, 13.11, 22.27, 14.87, 15.78, 17.95, 18.66, 24.25, 13.61, 19.0, 19.79, 15.46, 16.16, 18.45, 12.77, 14.95, 16.11, 11.8, 17.68, 19.19, 19.59, 23.27, 16.78, 17.47, 13.43, 15.46, 16.46, 27.22, 21.09, 15.7, 15.28, 18.31, 14.22, 12.34, 14.86, 13.77, 18.08, 19.18, 14.45, 17.54, 23.29, 13.81, 15.12, 17.01, 20.58, 28.11, 17.42, 14.19, 13.86, 19.8, 19.53, 15.75, 12.83, 17.05, 20.51, 23.21, 20.48, 17.46, 19.4, 20.94, 19.73, 17.3, 19.45, 13.96, 19.55, 15.32, 15.66, 15.53, 20.31, 17.35, 17.29, 15.61, 17.19, 20.73, 21.75, 17.93, 18.81, 19.16, 19.4, 16.24, 11.76, 19.53, 20.09, 18.22, 20.16, 20.34, 16.27, 16.26, 16.03, 17.06, 18.77, 23.51, 19.68, 15.75, 25.73, 15.08, 20.44, 20.2, 21.71, 22.01, 16.35, 21.37, 20.64, 11.08, 14.6, 19.55, 15.49, 21.61, 17.91, 17.99, 15.13, 15.5, 14.9, 20.18, 18.82, 13.98, 17.27, 18.03, 17.75, 21.1, 19.59, 17.08, 27.42, 17.6, 16.25, 19.44, 16.69, 18.01, 18.49, 20.59, 13.82, 23.09, 15.46, 13.4, 15.05, 18.31, 19.89, 24.63, 20.47, 20.55, 14.27, 15.22, 20.92, 21.56, 20.13, 16.6, 20.6], \"xaxis\": \"x\", \"yaxis\": \"y\"}, {\"alignmentgroup\": \"True\", \"bingroup\": \"x\", \"hovertemplate\": \"diagnosis=False<br>radius_mean=%{x}<br>count=%{y}<extra></extra>\", \"legendgroup\": \"False\", \"marker\": {\"color\": \"#EF553B\"}, \"name\": \"False\", \"offsetgroup\": \"False\", \"orientation\": \"v\", \"showlegend\": true, \"type\": \"histogram\", \"x\": [13.54, 13.08, 9.504, 13.03, 8.196, 12.05, 13.49, 11.76, 13.64, 11.94, 11.52, 13.05, 8.618, 10.17, 8.598, 9.173, 9.465, 11.31, 9.029, 12.78, 8.888, 12.31, 13.53, 12.86, 11.45, 13.34, 12.0, 12.36, 14.64, 14.62, 13.27, 13.45, 12.18, 9.787, 11.6, 6.981, 12.18, 9.876, 10.49, 11.64, 12.36, 11.34, 9.777, 12.63, 14.26, 10.51, 8.726, 11.93, 8.95, 11.41, 14.5, 13.37, 13.85, 15.1, 12.19, 15.71, 11.71, 11.43, 11.28, 9.738, 11.43, 12.9, 10.75, 11.9, 14.95, 14.44, 13.74, 13.0, 8.219, 9.731, 11.15, 13.15, 12.25, 16.84, 12.06, 10.9, 11.75, 12.34, 14.97, 10.8, 14.97, 12.32, 11.08, 10.66, 8.671, 9.904, 13.01, 12.81, 11.41, 10.08, 11.71, 11.81, 12.3, 12.77, 9.72, 12.91, 12.23, 12.47, 9.876, 13.11, 15.27, 11.84, 11.89, 10.2, 13.65, 13.56, 10.18, 13.27, 14.34, 10.44, 15.0, 12.62, 11.32, 11.22, 9.567, 14.03, 14.22, 13.64, 12.42, 11.3, 13.75, 10.48, 13.2, 12.89, 10.65, 11.52, 11.5, 10.6, 13.59, 12.87, 10.71, 14.29, 11.29, 9.742, 11.89, 11.33, 13.59, 13.85, 11.74, 12.89, 12.58, 11.94, 12.89, 11.26, 11.37, 14.41, 14.96, 12.95, 11.85, 12.72, 13.77, 10.91, 14.26, 10.51, 12.46, 10.49, 11.46, 11.6, 13.2, 9.0, 13.5, 13.05, 11.7, 14.61, 12.76, 11.54, 8.597, 12.49, 12.18, 9.042, 12.43, 10.25, 12.86, 12.2, 12.67, 14.11, 12.03, 12.98, 11.22, 11.25, 12.3, 12.99, 10.05, 14.42, 9.606, 11.06, 11.71, 10.26, 12.06, 14.76, 11.47, 11.95, 11.66, 11.14, 12.56, 13.05, 13.87, 8.878, 9.436, 12.54, 13.3, 12.76, 16.5, 13.4, 12.21, 15.19, 13.69, 16.17, 10.57, 13.46, 13.66, 11.27, 11.04, 12.05, 12.39, 13.28, 12.21, 13.88, 11.27, 10.26, 8.734, 12.1, 14.06, 13.51, 12.8, 11.06, 11.8], \"xaxis\": \"x\", \"yaxis\": \"y\"}],                        {\"barmode\": \"relative\", \"legend\": {\"title\": {\"text\": \"diagnosis\"}, \"tracegroupgap\": 0}, \"template\": {\"data\": {\"bar\": [{\"error_x\": {\"color\": \"#2a3f5f\"}, \"error_y\": {\"color\": \"#2a3f5f\"}, \"marker\": {\"line\": {\"color\": \"#E5ECF6\", \"width\": 0.5}}, \"type\": \"bar\"}], \"barpolar\": [{\"marker\": {\"line\": {\"color\": \"#E5ECF6\", \"width\": 0.5}}, \"type\": \"barpolar\"}], \"carpet\": [{\"aaxis\": {\"endlinecolor\": \"#2a3f5f\", \"gridcolor\": \"white\", \"linecolor\": \"white\", \"minorgridcolor\": \"white\", \"startlinecolor\": \"#2a3f5f\"}, \"baxis\": {\"endlinecolor\": \"#2a3f5f\", \"gridcolor\": \"white\", \"linecolor\": \"white\", \"minorgridcolor\": \"white\", \"startlinecolor\": \"#2a3f5f\"}, \"type\": \"carpet\"}], \"choropleth\": [{\"colorbar\": {\"outlinewidth\": 0, \"ticks\": \"\"}, \"type\": \"choropleth\"}], \"contour\": [{\"colorbar\": {\"outlinewidth\": 0, \"ticks\": \"\"}, \"colorscale\": [[0.0, \"#0d0887\"], [0.1111111111111111, \"#46039f\"], [0.2222222222222222, \"#7201a8\"], [0.3333333333333333, \"#9c179e\"], [0.4444444444444444, \"#bd3786\"], [0.5555555555555556, \"#d8576b\"], [0.6666666666666666, \"#ed7953\"], [0.7777777777777778, \"#fb9f3a\"], [0.8888888888888888, \"#fdca26\"], [1.0, \"#f0f921\"]], \"type\": \"contour\"}], \"contourcarpet\": [{\"colorbar\": {\"outlinewidth\": 0, \"ticks\": \"\"}, \"type\": \"contourcarpet\"}], \"heatmap\": [{\"colorbar\": {\"outlinewidth\": 0, \"ticks\": \"\"}, \"colorscale\": [[0.0, \"#0d0887\"], [0.1111111111111111, \"#46039f\"], [0.2222222222222222, \"#7201a8\"], [0.3333333333333333, \"#9c179e\"], [0.4444444444444444, \"#bd3786\"], [0.5555555555555556, \"#d8576b\"], [0.6666666666666666, \"#ed7953\"], [0.7777777777777778, \"#fb9f3a\"], [0.8888888888888888, \"#fdca26\"], [1.0, \"#f0f921\"]], \"type\": \"heatmap\"}], \"heatmapgl\": [{\"colorbar\": {\"outlinewidth\": 0, \"ticks\": \"\"}, \"colorscale\": [[0.0, \"#0d0887\"], [0.1111111111111111, \"#46039f\"], [0.2222222222222222, \"#7201a8\"], [0.3333333333333333, \"#9c179e\"], [0.4444444444444444, \"#bd3786\"], [0.5555555555555556, \"#d8576b\"], [0.6666666666666666, \"#ed7953\"], [0.7777777777777778, \"#fb9f3a\"], [0.8888888888888888, \"#fdca26\"], [1.0, \"#f0f921\"]], \"type\": \"heatmapgl\"}], \"histogram\": [{\"marker\": {\"colorbar\": {\"outlinewidth\": 0, \"ticks\": \"\"}}, \"type\": \"histogram\"}], \"histogram2d\": [{\"colorbar\": {\"outlinewidth\": 0, \"ticks\": \"\"}, \"colorscale\": [[0.0, \"#0d0887\"], [0.1111111111111111, \"#46039f\"], [0.2222222222222222, \"#7201a8\"], [0.3333333333333333, \"#9c179e\"], [0.4444444444444444, \"#bd3786\"], [0.5555555555555556, \"#d8576b\"], [0.6666666666666666, \"#ed7953\"], [0.7777777777777778, \"#fb9f3a\"], [0.8888888888888888, \"#fdca26\"], [1.0, \"#f0f921\"]], \"type\": \"histogram2d\"}], \"histogram2dcontour\": [{\"colorbar\": {\"outlinewidth\": 0, \"ticks\": \"\"}, \"colorscale\": [[0.0, \"#0d0887\"], [0.1111111111111111, \"#46039f\"], [0.2222222222222222, \"#7201a8\"], [0.3333333333333333, \"#9c179e\"], [0.4444444444444444, \"#bd3786\"], [0.5555555555555556, \"#d8576b\"], [0.6666666666666666, \"#ed7953\"], [0.7777777777777778, \"#fb9f3a\"], [0.8888888888888888, \"#fdca26\"], [1.0, \"#f0f921\"]], \"type\": \"histogram2dcontour\"}], \"mesh3d\": [{\"colorbar\": {\"outlinewidth\": 0, \"ticks\": \"\"}, \"type\": \"mesh3d\"}], \"parcoords\": [{\"line\": {\"colorbar\": {\"outlinewidth\": 0, \"ticks\": \"\"}}, \"type\": \"parcoords\"}], \"pie\": [{\"automargin\": true, \"type\": \"pie\"}], \"scatter\": [{\"marker\": {\"colorbar\": {\"outlinewidth\": 0, \"ticks\": \"\"}}, \"type\": \"scatter\"}], \"scatter3d\": [{\"line\": {\"colorbar\": {\"outlinewidth\": 0, \"ticks\": \"\"}}, \"marker\": {\"colorbar\": {\"outlinewidth\": 0, \"ticks\": \"\"}}, \"type\": \"scatter3d\"}], \"scattercarpet\": [{\"marker\": {\"colorbar\": {\"outlinewidth\": 0, \"ticks\": \"\"}}, \"type\": \"scattercarpet\"}], \"scattergeo\": [{\"marker\": {\"colorbar\": {\"outlinewidth\": 0, \"ticks\": \"\"}}, \"type\": \"scattergeo\"}], \"scattergl\": [{\"marker\": {\"colorbar\": {\"outlinewidth\": 0, \"ticks\": \"\"}}, \"type\": \"scattergl\"}], \"scattermapbox\": [{\"marker\": {\"colorbar\": {\"outlinewidth\": 0, \"ticks\": \"\"}}, \"type\": \"scattermapbox\"}], \"scatterpolar\": [{\"marker\": {\"colorbar\": {\"outlinewidth\": 0, \"ticks\": \"\"}}, \"type\": \"scatterpolar\"}], \"scatterpolargl\": [{\"marker\": {\"colorbar\": {\"outlinewidth\": 0, \"ticks\": \"\"}}, \"type\": \"scatterpolargl\"}], \"scatterternary\": [{\"marker\": {\"colorbar\": {\"outlinewidth\": 0, \"ticks\": \"\"}}, \"type\": \"scatterternary\"}], \"surface\": [{\"colorbar\": {\"outlinewidth\": 0, \"ticks\": \"\"}, \"colorscale\": [[0.0, \"#0d0887\"], [0.1111111111111111, \"#46039f\"], [0.2222222222222222, \"#7201a8\"], [0.3333333333333333, \"#9c179e\"], [0.4444444444444444, \"#bd3786\"], [0.5555555555555556, \"#d8576b\"], [0.6666666666666666, \"#ed7953\"], [0.7777777777777778, \"#fb9f3a\"], [0.8888888888888888, \"#fdca26\"], [1.0, \"#f0f921\"]], \"type\": \"surface\"}], \"table\": [{\"cells\": {\"fill\": {\"color\": \"#EBF0F8\"}, \"line\": {\"color\": \"white\"}}, \"header\": {\"fill\": {\"color\": \"#C8D4E3\"}, \"line\": {\"color\": \"white\"}}, \"type\": \"table\"}]}, \"layout\": {\"annotationdefaults\": {\"arrowcolor\": \"#2a3f5f\", \"arrowhead\": 0, \"arrowwidth\": 1}, \"coloraxis\": {\"colorbar\": {\"outlinewidth\": 0, \"ticks\": \"\"}}, \"colorscale\": {\"diverging\": [[0, \"#8e0152\"], [0.1, \"#c51b7d\"], [0.2, \"#de77ae\"], [0.3, \"#f1b6da\"], [0.4, \"#fde0ef\"], [0.5, \"#f7f7f7\"], [0.6, \"#e6f5d0\"], [0.7, \"#b8e186\"], [0.8, \"#7fbc41\"], [0.9, \"#4d9221\"], [1, \"#276419\"]], \"sequential\": [[0.0, \"#0d0887\"], [0.1111111111111111, \"#46039f\"], [0.2222222222222222, \"#7201a8\"], [0.3333333333333333, \"#9c179e\"], [0.4444444444444444, \"#bd3786\"], [0.5555555555555556, \"#d8576b\"], [0.6666666666666666, \"#ed7953\"], [0.7777777777777778, \"#fb9f3a\"], [0.8888888888888888, \"#fdca26\"], [1.0, \"#f0f921\"]], \"sequentialminus\": [[0.0, \"#0d0887\"], [0.1111111111111111, \"#46039f\"], [0.2222222222222222, \"#7201a8\"], [0.3333333333333333, \"#9c179e\"], [0.4444444444444444, \"#bd3786\"], [0.5555555555555556, \"#d8576b\"], [0.6666666666666666, \"#ed7953\"], [0.7777777777777778, \"#fb9f3a\"], [0.8888888888888888, \"#fdca26\"], [1.0, \"#f0f921\"]]}, \"colorway\": [\"#636efa\", \"#EF553B\", \"#00cc96\", \"#ab63fa\", \"#FFA15A\", \"#19d3f3\", \"#FF6692\", \"#B6E880\", \"#FF97FF\", \"#FECB52\"], \"font\": {\"color\": \"#2a3f5f\"}, \"geo\": {\"bgcolor\": \"white\", \"lakecolor\": \"white\", \"landcolor\": \"#E5ECF6\", \"showlakes\": true, \"showland\": true, \"subunitcolor\": \"white\"}, \"hoverlabel\": {\"align\": \"left\"}, \"hovermode\": \"closest\", \"mapbox\": {\"style\": \"light\"}, \"paper_bgcolor\": \"white\", \"plot_bgcolor\": \"#E5ECF6\", \"polar\": {\"angularaxis\": {\"gridcolor\": \"white\", \"linecolor\": \"white\", \"ticks\": \"\"}, \"bgcolor\": \"#E5ECF6\", \"radialaxis\": {\"gridcolor\": \"white\", \"linecolor\": \"white\", \"ticks\": \"\"}}, \"scene\": {\"xaxis\": {\"backgroundcolor\": \"#E5ECF6\", \"gridcolor\": \"white\", \"gridwidth\": 2, \"linecolor\": \"white\", \"showbackground\": true, \"ticks\": \"\", \"zerolinecolor\": \"white\"}, \"yaxis\": {\"backgroundcolor\": \"#E5ECF6\", \"gridcolor\": \"white\", \"gridwidth\": 2, \"linecolor\": \"white\", \"showbackground\": true, \"ticks\": \"\", \"zerolinecolor\": \"white\"}, \"zaxis\": {\"backgroundcolor\": \"#E5ECF6\", \"gridcolor\": \"white\", \"gridwidth\": 2, \"linecolor\": \"white\", \"showbackground\": true, \"ticks\": \"\", \"zerolinecolor\": \"white\"}}, \"shapedefaults\": {\"line\": {\"color\": \"#2a3f5f\"}}, \"ternary\": {\"aaxis\": {\"gridcolor\": \"white\", \"linecolor\": \"white\", \"ticks\": \"\"}, \"baxis\": {\"gridcolor\": \"white\", \"linecolor\": \"white\", \"ticks\": \"\"}, \"bgcolor\": \"#E5ECF6\", \"caxis\": {\"gridcolor\": \"white\", \"linecolor\": \"white\", \"ticks\": \"\"}}, \"title\": {\"x\": 0.05}, \"xaxis\": {\"automargin\": true, \"gridcolor\": \"white\", \"linecolor\": \"white\", \"ticks\": \"\", \"title\": {\"standoff\": 15}, \"zerolinecolor\": \"white\", \"zerolinewidth\": 2}, \"yaxis\": {\"automargin\": true, \"gridcolor\": \"white\", \"linecolor\": \"white\", \"ticks\": \"\", \"title\": {\"standoff\": 15}, \"zerolinecolor\": \"white\", \"zerolinewidth\": 2}}}, \"title\": {\"text\": \"Radius Mean Probablity Distribution\"}, \"xaxis\": {\"anchor\": \"y\", \"domain\": [0.0, 1.0], \"title\": {\"text\": \"radius_mean\"}}, \"yaxis\": {\"anchor\": \"x\", \"domain\": [0.0, 1.0], \"title\": {\"text\": \"count\"}}},                        {\"responsive\": true}                    ).then(function(){\n",
       "                            \n",
       "var gd = document.getElementById('51054e94-97d5-4725-bb12-4320f39213fb');\n",
       "var x = new MutationObserver(function (mutations, observer) {{\n",
       "        var display = window.getComputedStyle(gd).display;\n",
       "        if (!display || display === 'none') {{\n",
       "            console.log([gd, 'removed!']);\n",
       "            Plotly.purge(gd);\n",
       "            observer.disconnect();\n",
       "        }}\n",
       "}});\n",
       "\n",
       "// Listen for the removal of the full notebook cells\n",
       "var notebookContainer = gd.closest('#notebook-container');\n",
       "if (notebookContainer) {{\n",
       "    x.observe(notebookContainer, {childList: true});\n",
       "}}\n",
       "\n",
       "// Listen for the clearing of the current output cell\n",
       "var outputEl = gd.closest('.output');\n",
       "if (outputEl) {{\n",
       "    x.observe(outputEl, {childList: true});\n",
       "}}\n",
       "\n",
       "                        })                };                });            </script>        </div>"
      ]
     },
     "metadata": {},
     "output_type": "display_data"
    }
   ],
   "source": [
    "px.histogram(data_frame=train_data , x = \"radius_mean\",color=\"diagnosis\",title=\"Radius Mean Probablity Distribution\")"
   ]
  },
  {
   "cell_type": "code",
   "execution_count": 16,
   "metadata": {},
   "outputs": [
    {
     "data": {
      "application/vnd.plotly.v1+json": {
       "config": {
        "plotlyServerURL": "https://plot.ly"
       },
       "data": [
        {
         "alignmentgroup": "True",
         "bingroup": "x",
         "hovertemplate": "diagnosis=True<br>texture_mean=%{x}<br>count=%{y}<extra></extra>",
         "legendgroup": "True",
         "marker": {
          "color": "#636efa"
         },
         "name": "True",
         "offsetgroup": "True",
         "orientation": "v",
         "showlegend": true,
         "type": "histogram",
         "x": [
          10.38,
          17.77,
          21.25,
          20.38,
          14.34,
          15.7,
          19.98,
          20.83,
          21.82,
          24.04,
          23.24,
          17.89,
          24.8,
          23.95,
          22.61,
          27.54,
          20.13,
          20.68,
          22.15,
          14.26,
          23.04,
          21.38,
          16.4,
          21.53,
          20.25,
          25.27,
          15.05,
          25.11,
          18.7,
          23.98,
          26.47,
          17.88,
          21.59,
          21.72,
          25.2,
          20.82,
          21.58,
          21.35,
          24.81,
          20.28,
          21.81,
          17.6,
          18.66,
          18.7,
          22.02,
          18.57,
          21.59,
          22.15,
          23.84,
          23.94,
          21.31,
          24.52,
          15.79,
          19.65,
          16.15,
          23.97,
          24.91,
          26.29,
          18.52,
          21.46,
          24.59,
          22.76,
          19.83,
          23.03,
          19.77,
          24.98,
          15.56,
          19.67,
          16.67,
          22.91,
          20.01,
          17.12,
          20.2,
          24.69,
          18.91,
          25.12,
          19.48,
          21.54,
          21.91,
          22.47,
          17.57,
          18.05,
          16.58,
          20.74,
          15.94,
          18.15,
          22.04,
          18.8,
          24.68,
          19.63,
          11.89,
          20.11,
          21.87,
          26.57,
          20.31,
          22.41,
          18.58,
          23.12,
          26.86,
          23.21,
          22.29,
          21.84,
          22.49,
          20.22,
          19.32,
          26.67,
          23.75,
          16.68,
          20.26,
          22.14,
          18.47,
          25.56,
          23.81,
          16.93,
          21.56,
          32.47,
          20.25,
          22.33,
          19.08,
          27.81,
          26.97,
          21.46,
          39.28,
          23.5,
          23.56,
          19.82,
          17.08,
          19.33,
          17.05,
          28.77,
          17.27,
          23.2,
          33.56,
          27.06,
          23.06,
          22.13,
          19.38,
          22.07,
          31.12,
          20.99,
          24.48,
          19.98,
          26.6,
          18.18,
          18.77,
          18.14,
          18.9,
          23.86,
          18.87,
          19.66,
          21.51,
          20.71,
          21.88,
          15.51,
          21,
          21.43,
          24.27,
          21.68,
          19.22,
          17.46,
          25.74,
          21.78,
          26.83,
          17.25,
          21.9,
          23.29,
          15.1,
          17.35,
          18.83,
          23.29,
          23.21,
          19.97,
          22.28,
          21.02,
          20.66,
          29.81,
          21.08,
          22.53,
          19.54,
          21.97,
          19.62,
          25.42,
          16.85,
          28.03,
          20.52,
          25,
          27.15,
          26.27,
          23.33,
          19.51,
          18.82,
          20.2,
          20.56,
          17.52,
          21.24,
          24.49,
          19.83,
          23.95,
          20.52,
          19.07,
          20.58,
          20.26,
          21.6,
          20.67,
          20.86,
          22.55,
          30.62,
          25.09,
          22.39,
          28.25,
          28.08,
          29.33
         ],
         "xaxis": "x",
         "yaxis": "y"
        },
        {
         "alignmentgroup": "True",
         "bingroup": "x",
         "hovertemplate": "diagnosis=False<br>texture_mean=%{x}<br>count=%{y}<extra></extra>",
         "legendgroup": "False",
         "marker": {
          "color": "#EF553B"
         },
         "name": "False",
         "offsetgroup": "False",
         "orientation": "v",
         "showlegend": true,
         "type": "histogram",
         "x": [
          14.36,
          15.71,
          12.44,
          18.42,
          16.84,
          14.63,
          22.3,
          21.6,
          16.34,
          18.24,
          18.75,
          19.31,
          11.79,
          14.88,
          20.98,
          13.86,
          21.01,
          19.04,
          17.33,
          16.49,
          14.64,
          16.52,
          10.94,
          18,
          20.97,
          15.86,
          15.65,
          21.8,
          15.24,
          24.02,
          14.76,
          18.3,
          17.84,
          19.94,
          12.84,
          13.43,
          20.52,
          19.4,
          19.29,
          18.33,
          18.54,
          21.26,
          16.99,
          20.76,
          19.65,
          20.19,
          15.83,
          21.53,
          15.76,
          10.82,
          10.89,
          16.39,
          17.21,
          16.39,
          13.29,
          13.93,
          16.67,
          15.39,
          13.39,
          11.97,
          17.31,
          15.92,
          14.97,
          14.65,
          18.77,
          15.18,
          17.91,
          20.78,
          20.7,
          15.34,
          13.08,
          15.34,
          17.94,
          19.46,
          12.74,
          12.96,
          20.18,
          22.22,
          19.76,
          9.71,
          16.95,
          12.39,
          14.71,
          15.15,
          14.45,
          18.06,
          22.22,
          13.06,
          14.92,
          15.11,
          17.19,
          17.39,
          15.9,
          21.41,
          18.22,
          16.33,
          19.56,
          18.6,
          17.27,
          22.54,
          12.91,
          18.94,
          18.35,
          17.48,
          13.16,
          13.9,
          17.53,
          17.02,
          13.47,
          15.46,
          15.51,
          23.97,
          27.08,
          33.81,
          15.91,
          21.25,
          27.85,
          15.6,
          15.04,
          18.19,
          23.77,
          19.86,
          17.43,
          14.11,
          25.22,
          14.93,
          18.45,
          18.95,
          21.84,
          16.21,
          20.39,
          16.82,
          13.04,
          15.67,
          17.36,
          14.16,
          17.84,
          15.18,
          14.02,
          15.7,
          18.4,
          20.76,
          13.12,
          19.96,
          18.89,
          19.73,
          19.1,
          16.02,
          17.46,
          13.78,
          13.27,
          12.35,
          18.17,
          23.09,
          19.89,
          18.61,
          18.16,
          24.49,
          15.82,
          14.4,
          12.71,
          13.84,
          19.11,
          15.69,
          13.37,
          10.72,
          18.6,
          16.85,
          14.08,
          18.9,
          17,
          16.18,
          13.32,
          15.21,
          17.3,
          12.88,
          17.93,
          19.35,
          19.86,
          14.78,
          19.02,
          14.23,
          17.53,
          16.54,
          16.84,
          14.96,
          15.45,
          14.71,
          18.9,
          14.74,
          16.03,
          14.96,
          17.07,
          14.07,
          19.07,
          18.59,
          16.21,
          15.49,
          18.32,
          18.07,
          21.57,
          18.84,
          18.29,
          16.95,
          18.02,
          13.21,
          16.07,
          16.07,
          20.22,
          28.21,
          15.15,
          12.96,
          14.93,
          22.72,
          17.48,
          13.72,
          14.09,
          16.16,
          15.5,
          12.22,
          16.84,
          17.72,
          17.18,
          18.89,
          17.46,
          14.83,
          17.26
         ],
         "xaxis": "x",
         "yaxis": "y"
        }
       ],
       "layout": {
        "barmode": "relative",
        "legend": {
         "title": {
          "text": "diagnosis"
         },
         "tracegroupgap": 0
        },
        "template": {
         "data": {
          "bar": [
           {
            "error_x": {
             "color": "#2a3f5f"
            },
            "error_y": {
             "color": "#2a3f5f"
            },
            "marker": {
             "line": {
              "color": "#E5ECF6",
              "width": 0.5
             }
            },
            "type": "bar"
           }
          ],
          "barpolar": [
           {
            "marker": {
             "line": {
              "color": "#E5ECF6",
              "width": 0.5
             }
            },
            "type": "barpolar"
           }
          ],
          "carpet": [
           {
            "aaxis": {
             "endlinecolor": "#2a3f5f",
             "gridcolor": "white",
             "linecolor": "white",
             "minorgridcolor": "white",
             "startlinecolor": "#2a3f5f"
            },
            "baxis": {
             "endlinecolor": "#2a3f5f",
             "gridcolor": "white",
             "linecolor": "white",
             "minorgridcolor": "white",
             "startlinecolor": "#2a3f5f"
            },
            "type": "carpet"
           }
          ],
          "choropleth": [
           {
            "colorbar": {
             "outlinewidth": 0,
             "ticks": ""
            },
            "type": "choropleth"
           }
          ],
          "contour": [
           {
            "colorbar": {
             "outlinewidth": 0,
             "ticks": ""
            },
            "colorscale": [
             [
              0,
              "#0d0887"
             ],
             [
              0.1111111111111111,
              "#46039f"
             ],
             [
              0.2222222222222222,
              "#7201a8"
             ],
             [
              0.3333333333333333,
              "#9c179e"
             ],
             [
              0.4444444444444444,
              "#bd3786"
             ],
             [
              0.5555555555555556,
              "#d8576b"
             ],
             [
              0.6666666666666666,
              "#ed7953"
             ],
             [
              0.7777777777777778,
              "#fb9f3a"
             ],
             [
              0.8888888888888888,
              "#fdca26"
             ],
             [
              1,
              "#f0f921"
             ]
            ],
            "type": "contour"
           }
          ],
          "contourcarpet": [
           {
            "colorbar": {
             "outlinewidth": 0,
             "ticks": ""
            },
            "type": "contourcarpet"
           }
          ],
          "heatmap": [
           {
            "colorbar": {
             "outlinewidth": 0,
             "ticks": ""
            },
            "colorscale": [
             [
              0,
              "#0d0887"
             ],
             [
              0.1111111111111111,
              "#46039f"
             ],
             [
              0.2222222222222222,
              "#7201a8"
             ],
             [
              0.3333333333333333,
              "#9c179e"
             ],
             [
              0.4444444444444444,
              "#bd3786"
             ],
             [
              0.5555555555555556,
              "#d8576b"
             ],
             [
              0.6666666666666666,
              "#ed7953"
             ],
             [
              0.7777777777777778,
              "#fb9f3a"
             ],
             [
              0.8888888888888888,
              "#fdca26"
             ],
             [
              1,
              "#f0f921"
             ]
            ],
            "type": "heatmap"
           }
          ],
          "heatmapgl": [
           {
            "colorbar": {
             "outlinewidth": 0,
             "ticks": ""
            },
            "colorscale": [
             [
              0,
              "#0d0887"
             ],
             [
              0.1111111111111111,
              "#46039f"
             ],
             [
              0.2222222222222222,
              "#7201a8"
             ],
             [
              0.3333333333333333,
              "#9c179e"
             ],
             [
              0.4444444444444444,
              "#bd3786"
             ],
             [
              0.5555555555555556,
              "#d8576b"
             ],
             [
              0.6666666666666666,
              "#ed7953"
             ],
             [
              0.7777777777777778,
              "#fb9f3a"
             ],
             [
              0.8888888888888888,
              "#fdca26"
             ],
             [
              1,
              "#f0f921"
             ]
            ],
            "type": "heatmapgl"
           }
          ],
          "histogram": [
           {
            "marker": {
             "colorbar": {
              "outlinewidth": 0,
              "ticks": ""
             }
            },
            "type": "histogram"
           }
          ],
          "histogram2d": [
           {
            "colorbar": {
             "outlinewidth": 0,
             "ticks": ""
            },
            "colorscale": [
             [
              0,
              "#0d0887"
             ],
             [
              0.1111111111111111,
              "#46039f"
             ],
             [
              0.2222222222222222,
              "#7201a8"
             ],
             [
              0.3333333333333333,
              "#9c179e"
             ],
             [
              0.4444444444444444,
              "#bd3786"
             ],
             [
              0.5555555555555556,
              "#d8576b"
             ],
             [
              0.6666666666666666,
              "#ed7953"
             ],
             [
              0.7777777777777778,
              "#fb9f3a"
             ],
             [
              0.8888888888888888,
              "#fdca26"
             ],
             [
              1,
              "#f0f921"
             ]
            ],
            "type": "histogram2d"
           }
          ],
          "histogram2dcontour": [
           {
            "colorbar": {
             "outlinewidth": 0,
             "ticks": ""
            },
            "colorscale": [
             [
              0,
              "#0d0887"
             ],
             [
              0.1111111111111111,
              "#46039f"
             ],
             [
              0.2222222222222222,
              "#7201a8"
             ],
             [
              0.3333333333333333,
              "#9c179e"
             ],
             [
              0.4444444444444444,
              "#bd3786"
             ],
             [
              0.5555555555555556,
              "#d8576b"
             ],
             [
              0.6666666666666666,
              "#ed7953"
             ],
             [
              0.7777777777777778,
              "#fb9f3a"
             ],
             [
              0.8888888888888888,
              "#fdca26"
             ],
             [
              1,
              "#f0f921"
             ]
            ],
            "type": "histogram2dcontour"
           }
          ],
          "mesh3d": [
           {
            "colorbar": {
             "outlinewidth": 0,
             "ticks": ""
            },
            "type": "mesh3d"
           }
          ],
          "parcoords": [
           {
            "line": {
             "colorbar": {
              "outlinewidth": 0,
              "ticks": ""
             }
            },
            "type": "parcoords"
           }
          ],
          "pie": [
           {
            "automargin": true,
            "type": "pie"
           }
          ],
          "scatter": [
           {
            "marker": {
             "colorbar": {
              "outlinewidth": 0,
              "ticks": ""
             }
            },
            "type": "scatter"
           }
          ],
          "scatter3d": [
           {
            "line": {
             "colorbar": {
              "outlinewidth": 0,
              "ticks": ""
             }
            },
            "marker": {
             "colorbar": {
              "outlinewidth": 0,
              "ticks": ""
             }
            },
            "type": "scatter3d"
           }
          ],
          "scattercarpet": [
           {
            "marker": {
             "colorbar": {
              "outlinewidth": 0,
              "ticks": ""
             }
            },
            "type": "scattercarpet"
           }
          ],
          "scattergeo": [
           {
            "marker": {
             "colorbar": {
              "outlinewidth": 0,
              "ticks": ""
             }
            },
            "type": "scattergeo"
           }
          ],
          "scattergl": [
           {
            "marker": {
             "colorbar": {
              "outlinewidth": 0,
              "ticks": ""
             }
            },
            "type": "scattergl"
           }
          ],
          "scattermapbox": [
           {
            "marker": {
             "colorbar": {
              "outlinewidth": 0,
              "ticks": ""
             }
            },
            "type": "scattermapbox"
           }
          ],
          "scatterpolar": [
           {
            "marker": {
             "colorbar": {
              "outlinewidth": 0,
              "ticks": ""
             }
            },
            "type": "scatterpolar"
           }
          ],
          "scatterpolargl": [
           {
            "marker": {
             "colorbar": {
              "outlinewidth": 0,
              "ticks": ""
             }
            },
            "type": "scatterpolargl"
           }
          ],
          "scatterternary": [
           {
            "marker": {
             "colorbar": {
              "outlinewidth": 0,
              "ticks": ""
             }
            },
            "type": "scatterternary"
           }
          ],
          "surface": [
           {
            "colorbar": {
             "outlinewidth": 0,
             "ticks": ""
            },
            "colorscale": [
             [
              0,
              "#0d0887"
             ],
             [
              0.1111111111111111,
              "#46039f"
             ],
             [
              0.2222222222222222,
              "#7201a8"
             ],
             [
              0.3333333333333333,
              "#9c179e"
             ],
             [
              0.4444444444444444,
              "#bd3786"
             ],
             [
              0.5555555555555556,
              "#d8576b"
             ],
             [
              0.6666666666666666,
              "#ed7953"
             ],
             [
              0.7777777777777778,
              "#fb9f3a"
             ],
             [
              0.8888888888888888,
              "#fdca26"
             ],
             [
              1,
              "#f0f921"
             ]
            ],
            "type": "surface"
           }
          ],
          "table": [
           {
            "cells": {
             "fill": {
              "color": "#EBF0F8"
             },
             "line": {
              "color": "white"
             }
            },
            "header": {
             "fill": {
              "color": "#C8D4E3"
             },
             "line": {
              "color": "white"
             }
            },
            "type": "table"
           }
          ]
         },
         "layout": {
          "annotationdefaults": {
           "arrowcolor": "#2a3f5f",
           "arrowhead": 0,
           "arrowwidth": 1
          },
          "coloraxis": {
           "colorbar": {
            "outlinewidth": 0,
            "ticks": ""
           }
          },
          "colorscale": {
           "diverging": [
            [
             0,
             "#8e0152"
            ],
            [
             0.1,
             "#c51b7d"
            ],
            [
             0.2,
             "#de77ae"
            ],
            [
             0.3,
             "#f1b6da"
            ],
            [
             0.4,
             "#fde0ef"
            ],
            [
             0.5,
             "#f7f7f7"
            ],
            [
             0.6,
             "#e6f5d0"
            ],
            [
             0.7,
             "#b8e186"
            ],
            [
             0.8,
             "#7fbc41"
            ],
            [
             0.9,
             "#4d9221"
            ],
            [
             1,
             "#276419"
            ]
           ],
           "sequential": [
            [
             0,
             "#0d0887"
            ],
            [
             0.1111111111111111,
             "#46039f"
            ],
            [
             0.2222222222222222,
             "#7201a8"
            ],
            [
             0.3333333333333333,
             "#9c179e"
            ],
            [
             0.4444444444444444,
             "#bd3786"
            ],
            [
             0.5555555555555556,
             "#d8576b"
            ],
            [
             0.6666666666666666,
             "#ed7953"
            ],
            [
             0.7777777777777778,
             "#fb9f3a"
            ],
            [
             0.8888888888888888,
             "#fdca26"
            ],
            [
             1,
             "#f0f921"
            ]
           ],
           "sequentialminus": [
            [
             0,
             "#0d0887"
            ],
            [
             0.1111111111111111,
             "#46039f"
            ],
            [
             0.2222222222222222,
             "#7201a8"
            ],
            [
             0.3333333333333333,
             "#9c179e"
            ],
            [
             0.4444444444444444,
             "#bd3786"
            ],
            [
             0.5555555555555556,
             "#d8576b"
            ],
            [
             0.6666666666666666,
             "#ed7953"
            ],
            [
             0.7777777777777778,
             "#fb9f3a"
            ],
            [
             0.8888888888888888,
             "#fdca26"
            ],
            [
             1,
             "#f0f921"
            ]
           ]
          },
          "colorway": [
           "#636efa",
           "#EF553B",
           "#00cc96",
           "#ab63fa",
           "#FFA15A",
           "#19d3f3",
           "#FF6692",
           "#B6E880",
           "#FF97FF",
           "#FECB52"
          ],
          "font": {
           "color": "#2a3f5f"
          },
          "geo": {
           "bgcolor": "white",
           "lakecolor": "white",
           "landcolor": "#E5ECF6",
           "showlakes": true,
           "showland": true,
           "subunitcolor": "white"
          },
          "hoverlabel": {
           "align": "left"
          },
          "hovermode": "closest",
          "mapbox": {
           "style": "light"
          },
          "paper_bgcolor": "white",
          "plot_bgcolor": "#E5ECF6",
          "polar": {
           "angularaxis": {
            "gridcolor": "white",
            "linecolor": "white",
            "ticks": ""
           },
           "bgcolor": "#E5ECF6",
           "radialaxis": {
            "gridcolor": "white",
            "linecolor": "white",
            "ticks": ""
           }
          },
          "scene": {
           "xaxis": {
            "backgroundcolor": "#E5ECF6",
            "gridcolor": "white",
            "gridwidth": 2,
            "linecolor": "white",
            "showbackground": true,
            "ticks": "",
            "zerolinecolor": "white"
           },
           "yaxis": {
            "backgroundcolor": "#E5ECF6",
            "gridcolor": "white",
            "gridwidth": 2,
            "linecolor": "white",
            "showbackground": true,
            "ticks": "",
            "zerolinecolor": "white"
           },
           "zaxis": {
            "backgroundcolor": "#E5ECF6",
            "gridcolor": "white",
            "gridwidth": 2,
            "linecolor": "white",
            "showbackground": true,
            "ticks": "",
            "zerolinecolor": "white"
           }
          },
          "shapedefaults": {
           "line": {
            "color": "#2a3f5f"
           }
          },
          "ternary": {
           "aaxis": {
            "gridcolor": "white",
            "linecolor": "white",
            "ticks": ""
           },
           "baxis": {
            "gridcolor": "white",
            "linecolor": "white",
            "ticks": ""
           },
           "bgcolor": "#E5ECF6",
           "caxis": {
            "gridcolor": "white",
            "linecolor": "white",
            "ticks": ""
           }
          },
          "title": {
           "x": 0.05
          },
          "xaxis": {
           "automargin": true,
           "gridcolor": "white",
           "linecolor": "white",
           "ticks": "",
           "title": {
            "standoff": 15
           },
           "zerolinecolor": "white",
           "zerolinewidth": 2
          },
          "yaxis": {
           "automargin": true,
           "gridcolor": "white",
           "linecolor": "white",
           "ticks": "",
           "title": {
            "standoff": 15
           },
           "zerolinecolor": "white",
           "zerolinewidth": 2
          }
         }
        },
        "title": {
         "text": "Texture Mean Probablity Distribution"
        },
        "xaxis": {
         "anchor": "y",
         "domain": [
          0,
          1
         ],
         "title": {
          "text": "texture_mean"
         }
        },
        "yaxis": {
         "anchor": "x",
         "domain": [
          0,
          1
         ],
         "title": {
          "text": "count"
         }
        }
       }
      },
      "text/html": [
       "<div>                            <div id=\"31fc44f3-47df-41f4-884b-19c04f19265c\" class=\"plotly-graph-div\" style=\"height:525px; width:100%;\"></div>            <script type=\"text/javascript\">                require([\"plotly\"], function(Plotly) {                    window.PLOTLYENV=window.PLOTLYENV || {};                                    if (document.getElementById(\"31fc44f3-47df-41f4-884b-19c04f19265c\")) {                    Plotly.newPlot(                        \"31fc44f3-47df-41f4-884b-19c04f19265c\",                        [{\"alignmentgroup\": \"True\", \"bingroup\": \"x\", \"hovertemplate\": \"diagnosis=True<br>texture_mean=%{x}<br>count=%{y}<extra></extra>\", \"legendgroup\": \"True\", \"marker\": {\"color\": \"#636efa\"}, \"name\": \"True\", \"offsetgroup\": \"True\", \"orientation\": \"v\", \"showlegend\": true, \"type\": \"histogram\", \"x\": [10.38, 17.77, 21.25, 20.38, 14.34, 15.7, 19.98, 20.83, 21.82, 24.04, 23.24, 17.89, 24.8, 23.95, 22.61, 27.54, 20.13, 20.68, 22.15, 14.26, 23.04, 21.38, 16.4, 21.53, 20.25, 25.27, 15.05, 25.11, 18.7, 23.98, 26.47, 17.88, 21.59, 21.72, 25.2, 20.82, 21.58, 21.35, 24.81, 20.28, 21.81, 17.6, 18.66, 18.7, 22.02, 18.57, 21.59, 22.15, 23.84, 23.94, 21.31, 24.52, 15.79, 19.65, 16.15, 23.97, 24.91, 26.29, 18.52, 21.46, 24.59, 22.76, 19.83, 23.03, 19.77, 24.98, 15.56, 19.67, 16.67, 22.91, 20.01, 17.12, 20.2, 24.69, 18.91, 25.12, 19.48, 21.54, 21.91, 22.47, 17.57, 18.05, 16.58, 20.74, 15.94, 18.15, 22.04, 18.8, 24.68, 19.63, 11.89, 20.11, 21.87, 26.57, 20.31, 22.41, 18.58, 23.12, 26.86, 23.21, 22.29, 21.84, 22.49, 20.22, 19.32, 26.67, 23.75, 16.68, 20.26, 22.14, 18.47, 25.56, 23.81, 16.93, 21.56, 32.47, 20.25, 22.33, 19.08, 27.81, 26.97, 21.46, 39.28, 23.5, 23.56, 19.82, 17.08, 19.33, 17.05, 28.77, 17.27, 23.2, 33.56, 27.06, 23.06, 22.13, 19.38, 22.07, 31.12, 20.99, 24.48, 19.98, 26.6, 18.18, 18.77, 18.14, 18.9, 23.86, 18.87, 19.66, 21.51, 20.71, 21.88, 15.51, 21.0, 21.43, 24.27, 21.68, 19.22, 17.46, 25.74, 21.78, 26.83, 17.25, 21.9, 23.29, 15.1, 17.35, 18.83, 23.29, 23.21, 19.97, 22.28, 21.02, 20.66, 29.81, 21.08, 22.53, 19.54, 21.97, 19.62, 25.42, 16.85, 28.03, 20.52, 25.0, 27.15, 26.27, 23.33, 19.51, 18.82, 20.2, 20.56, 17.52, 21.24, 24.49, 19.83, 23.95, 20.52, 19.07, 20.58, 20.26, 21.6, 20.67, 20.86, 22.55, 30.62, 25.09, 22.39, 28.25, 28.08, 29.33], \"xaxis\": \"x\", \"yaxis\": \"y\"}, {\"alignmentgroup\": \"True\", \"bingroup\": \"x\", \"hovertemplate\": \"diagnosis=False<br>texture_mean=%{x}<br>count=%{y}<extra></extra>\", \"legendgroup\": \"False\", \"marker\": {\"color\": \"#EF553B\"}, \"name\": \"False\", \"offsetgroup\": \"False\", \"orientation\": \"v\", \"showlegend\": true, \"type\": \"histogram\", \"x\": [14.36, 15.71, 12.44, 18.42, 16.84, 14.63, 22.3, 21.6, 16.34, 18.24, 18.75, 19.31, 11.79, 14.88, 20.98, 13.86, 21.01, 19.04, 17.33, 16.49, 14.64, 16.52, 10.94, 18.0, 20.97, 15.86, 15.65, 21.8, 15.24, 24.02, 14.76, 18.3, 17.84, 19.94, 12.84, 13.43, 20.52, 19.4, 19.29, 18.33, 18.54, 21.26, 16.99, 20.76, 19.65, 20.19, 15.83, 21.53, 15.76, 10.82, 10.89, 16.39, 17.21, 16.39, 13.29, 13.93, 16.67, 15.39, 13.39, 11.97, 17.31, 15.92, 14.97, 14.65, 18.77, 15.18, 17.91, 20.78, 20.7, 15.34, 13.08, 15.34, 17.94, 19.46, 12.74, 12.96, 20.18, 22.22, 19.76, 9.71, 16.95, 12.39, 14.71, 15.15, 14.45, 18.06, 22.22, 13.06, 14.92, 15.11, 17.19, 17.39, 15.9, 21.41, 18.22, 16.33, 19.56, 18.6, 17.27, 22.54, 12.91, 18.94, 18.35, 17.48, 13.16, 13.9, 17.53, 17.02, 13.47, 15.46, 15.51, 23.97, 27.08, 33.81, 15.91, 21.25, 27.85, 15.6, 15.04, 18.19, 23.77, 19.86, 17.43, 14.11, 25.22, 14.93, 18.45, 18.95, 21.84, 16.21, 20.39, 16.82, 13.04, 15.67, 17.36, 14.16, 17.84, 15.18, 14.02, 15.7, 18.4, 20.76, 13.12, 19.96, 18.89, 19.73, 19.1, 16.02, 17.46, 13.78, 13.27, 12.35, 18.17, 23.09, 19.89, 18.61, 18.16, 24.49, 15.82, 14.4, 12.71, 13.84, 19.11, 15.69, 13.37, 10.72, 18.6, 16.85, 14.08, 18.9, 17.0, 16.18, 13.32, 15.21, 17.3, 12.88, 17.93, 19.35, 19.86, 14.78, 19.02, 14.23, 17.53, 16.54, 16.84, 14.96, 15.45, 14.71, 18.9, 14.74, 16.03, 14.96, 17.07, 14.07, 19.07, 18.59, 16.21, 15.49, 18.32, 18.07, 21.57, 18.84, 18.29, 16.95, 18.02, 13.21, 16.07, 16.07, 20.22, 28.21, 15.15, 12.96, 14.93, 22.72, 17.48, 13.72, 14.09, 16.16, 15.5, 12.22, 16.84, 17.72, 17.18, 18.89, 17.46, 14.83, 17.26], \"xaxis\": \"x\", \"yaxis\": \"y\"}],                        {\"barmode\": \"relative\", \"legend\": {\"title\": {\"text\": \"diagnosis\"}, \"tracegroupgap\": 0}, \"template\": {\"data\": {\"bar\": [{\"error_x\": {\"color\": \"#2a3f5f\"}, \"error_y\": {\"color\": \"#2a3f5f\"}, \"marker\": {\"line\": {\"color\": \"#E5ECF6\", \"width\": 0.5}}, \"type\": \"bar\"}], \"barpolar\": [{\"marker\": {\"line\": {\"color\": \"#E5ECF6\", \"width\": 0.5}}, \"type\": \"barpolar\"}], \"carpet\": [{\"aaxis\": {\"endlinecolor\": \"#2a3f5f\", \"gridcolor\": \"white\", \"linecolor\": \"white\", \"minorgridcolor\": \"white\", \"startlinecolor\": \"#2a3f5f\"}, \"baxis\": {\"endlinecolor\": \"#2a3f5f\", \"gridcolor\": \"white\", \"linecolor\": \"white\", \"minorgridcolor\": \"white\", \"startlinecolor\": \"#2a3f5f\"}, \"type\": \"carpet\"}], \"choropleth\": [{\"colorbar\": {\"outlinewidth\": 0, \"ticks\": \"\"}, \"type\": \"choropleth\"}], \"contour\": [{\"colorbar\": {\"outlinewidth\": 0, \"ticks\": \"\"}, \"colorscale\": [[0.0, \"#0d0887\"], [0.1111111111111111, \"#46039f\"], [0.2222222222222222, \"#7201a8\"], [0.3333333333333333, \"#9c179e\"], [0.4444444444444444, \"#bd3786\"], [0.5555555555555556, \"#d8576b\"], [0.6666666666666666, \"#ed7953\"], [0.7777777777777778, \"#fb9f3a\"], [0.8888888888888888, \"#fdca26\"], [1.0, \"#f0f921\"]], \"type\": \"contour\"}], \"contourcarpet\": [{\"colorbar\": {\"outlinewidth\": 0, \"ticks\": \"\"}, \"type\": \"contourcarpet\"}], \"heatmap\": [{\"colorbar\": {\"outlinewidth\": 0, \"ticks\": \"\"}, \"colorscale\": [[0.0, \"#0d0887\"], [0.1111111111111111, \"#46039f\"], [0.2222222222222222, \"#7201a8\"], [0.3333333333333333, \"#9c179e\"], [0.4444444444444444, \"#bd3786\"], [0.5555555555555556, \"#d8576b\"], [0.6666666666666666, \"#ed7953\"], [0.7777777777777778, \"#fb9f3a\"], [0.8888888888888888, \"#fdca26\"], [1.0, \"#f0f921\"]], \"type\": \"heatmap\"}], \"heatmapgl\": [{\"colorbar\": {\"outlinewidth\": 0, \"ticks\": \"\"}, \"colorscale\": [[0.0, \"#0d0887\"], [0.1111111111111111, \"#46039f\"], [0.2222222222222222, \"#7201a8\"], [0.3333333333333333, \"#9c179e\"], [0.4444444444444444, \"#bd3786\"], [0.5555555555555556, \"#d8576b\"], [0.6666666666666666, \"#ed7953\"], [0.7777777777777778, \"#fb9f3a\"], [0.8888888888888888, \"#fdca26\"], [1.0, \"#f0f921\"]], \"type\": \"heatmapgl\"}], \"histogram\": [{\"marker\": {\"colorbar\": {\"outlinewidth\": 0, \"ticks\": \"\"}}, \"type\": \"histogram\"}], \"histogram2d\": [{\"colorbar\": {\"outlinewidth\": 0, \"ticks\": \"\"}, \"colorscale\": [[0.0, \"#0d0887\"], [0.1111111111111111, \"#46039f\"], [0.2222222222222222, \"#7201a8\"], [0.3333333333333333, \"#9c179e\"], [0.4444444444444444, \"#bd3786\"], [0.5555555555555556, \"#d8576b\"], [0.6666666666666666, \"#ed7953\"], [0.7777777777777778, \"#fb9f3a\"], [0.8888888888888888, \"#fdca26\"], [1.0, \"#f0f921\"]], \"type\": \"histogram2d\"}], \"histogram2dcontour\": [{\"colorbar\": {\"outlinewidth\": 0, \"ticks\": \"\"}, \"colorscale\": [[0.0, \"#0d0887\"], [0.1111111111111111, \"#46039f\"], [0.2222222222222222, \"#7201a8\"], [0.3333333333333333, \"#9c179e\"], [0.4444444444444444, \"#bd3786\"], [0.5555555555555556, \"#d8576b\"], [0.6666666666666666, \"#ed7953\"], [0.7777777777777778, \"#fb9f3a\"], [0.8888888888888888, \"#fdca26\"], [1.0, \"#f0f921\"]], \"type\": \"histogram2dcontour\"}], \"mesh3d\": [{\"colorbar\": {\"outlinewidth\": 0, \"ticks\": \"\"}, \"type\": \"mesh3d\"}], \"parcoords\": [{\"line\": {\"colorbar\": {\"outlinewidth\": 0, \"ticks\": \"\"}}, \"type\": \"parcoords\"}], \"pie\": [{\"automargin\": true, \"type\": \"pie\"}], \"scatter\": [{\"marker\": {\"colorbar\": {\"outlinewidth\": 0, \"ticks\": \"\"}}, \"type\": \"scatter\"}], \"scatter3d\": [{\"line\": {\"colorbar\": {\"outlinewidth\": 0, \"ticks\": \"\"}}, \"marker\": {\"colorbar\": {\"outlinewidth\": 0, \"ticks\": \"\"}}, \"type\": \"scatter3d\"}], \"scattercarpet\": [{\"marker\": {\"colorbar\": {\"outlinewidth\": 0, \"ticks\": \"\"}}, \"type\": \"scattercarpet\"}], \"scattergeo\": [{\"marker\": {\"colorbar\": {\"outlinewidth\": 0, \"ticks\": \"\"}}, \"type\": \"scattergeo\"}], \"scattergl\": [{\"marker\": {\"colorbar\": {\"outlinewidth\": 0, \"ticks\": \"\"}}, \"type\": \"scattergl\"}], \"scattermapbox\": [{\"marker\": {\"colorbar\": {\"outlinewidth\": 0, \"ticks\": \"\"}}, \"type\": \"scattermapbox\"}], \"scatterpolar\": [{\"marker\": {\"colorbar\": {\"outlinewidth\": 0, \"ticks\": \"\"}}, \"type\": \"scatterpolar\"}], \"scatterpolargl\": [{\"marker\": {\"colorbar\": {\"outlinewidth\": 0, \"ticks\": \"\"}}, \"type\": \"scatterpolargl\"}], \"scatterternary\": [{\"marker\": {\"colorbar\": {\"outlinewidth\": 0, \"ticks\": \"\"}}, \"type\": \"scatterternary\"}], \"surface\": [{\"colorbar\": {\"outlinewidth\": 0, \"ticks\": \"\"}, \"colorscale\": [[0.0, \"#0d0887\"], [0.1111111111111111, \"#46039f\"], [0.2222222222222222, \"#7201a8\"], [0.3333333333333333, \"#9c179e\"], [0.4444444444444444, \"#bd3786\"], [0.5555555555555556, \"#d8576b\"], [0.6666666666666666, \"#ed7953\"], [0.7777777777777778, \"#fb9f3a\"], [0.8888888888888888, \"#fdca26\"], [1.0, \"#f0f921\"]], \"type\": \"surface\"}], \"table\": [{\"cells\": {\"fill\": {\"color\": \"#EBF0F8\"}, \"line\": {\"color\": \"white\"}}, \"header\": {\"fill\": {\"color\": \"#C8D4E3\"}, \"line\": {\"color\": \"white\"}}, \"type\": \"table\"}]}, \"layout\": {\"annotationdefaults\": {\"arrowcolor\": \"#2a3f5f\", \"arrowhead\": 0, \"arrowwidth\": 1}, \"coloraxis\": {\"colorbar\": {\"outlinewidth\": 0, \"ticks\": \"\"}}, \"colorscale\": {\"diverging\": [[0, \"#8e0152\"], [0.1, \"#c51b7d\"], [0.2, \"#de77ae\"], [0.3, \"#f1b6da\"], [0.4, \"#fde0ef\"], [0.5, \"#f7f7f7\"], [0.6, \"#e6f5d0\"], [0.7, \"#b8e186\"], [0.8, \"#7fbc41\"], [0.9, \"#4d9221\"], [1, \"#276419\"]], \"sequential\": [[0.0, \"#0d0887\"], [0.1111111111111111, \"#46039f\"], [0.2222222222222222, \"#7201a8\"], [0.3333333333333333, \"#9c179e\"], [0.4444444444444444, \"#bd3786\"], [0.5555555555555556, \"#d8576b\"], [0.6666666666666666, \"#ed7953\"], [0.7777777777777778, \"#fb9f3a\"], [0.8888888888888888, \"#fdca26\"], [1.0, \"#f0f921\"]], \"sequentialminus\": [[0.0, \"#0d0887\"], [0.1111111111111111, \"#46039f\"], [0.2222222222222222, \"#7201a8\"], [0.3333333333333333, \"#9c179e\"], [0.4444444444444444, \"#bd3786\"], [0.5555555555555556, \"#d8576b\"], [0.6666666666666666, \"#ed7953\"], [0.7777777777777778, \"#fb9f3a\"], [0.8888888888888888, \"#fdca26\"], [1.0, \"#f0f921\"]]}, \"colorway\": [\"#636efa\", \"#EF553B\", \"#00cc96\", \"#ab63fa\", \"#FFA15A\", \"#19d3f3\", \"#FF6692\", \"#B6E880\", \"#FF97FF\", \"#FECB52\"], \"font\": {\"color\": \"#2a3f5f\"}, \"geo\": {\"bgcolor\": \"white\", \"lakecolor\": \"white\", \"landcolor\": \"#E5ECF6\", \"showlakes\": true, \"showland\": true, \"subunitcolor\": \"white\"}, \"hoverlabel\": {\"align\": \"left\"}, \"hovermode\": \"closest\", \"mapbox\": {\"style\": \"light\"}, \"paper_bgcolor\": \"white\", \"plot_bgcolor\": \"#E5ECF6\", \"polar\": {\"angularaxis\": {\"gridcolor\": \"white\", \"linecolor\": \"white\", \"ticks\": \"\"}, \"bgcolor\": \"#E5ECF6\", \"radialaxis\": {\"gridcolor\": \"white\", \"linecolor\": \"white\", \"ticks\": \"\"}}, \"scene\": {\"xaxis\": {\"backgroundcolor\": \"#E5ECF6\", \"gridcolor\": \"white\", \"gridwidth\": 2, \"linecolor\": \"white\", \"showbackground\": true, \"ticks\": \"\", \"zerolinecolor\": \"white\"}, \"yaxis\": {\"backgroundcolor\": \"#E5ECF6\", \"gridcolor\": \"white\", \"gridwidth\": 2, \"linecolor\": \"white\", \"showbackground\": true, \"ticks\": \"\", \"zerolinecolor\": \"white\"}, \"zaxis\": {\"backgroundcolor\": \"#E5ECF6\", \"gridcolor\": \"white\", \"gridwidth\": 2, \"linecolor\": \"white\", \"showbackground\": true, \"ticks\": \"\", \"zerolinecolor\": \"white\"}}, \"shapedefaults\": {\"line\": {\"color\": \"#2a3f5f\"}}, \"ternary\": {\"aaxis\": {\"gridcolor\": \"white\", \"linecolor\": \"white\", \"ticks\": \"\"}, \"baxis\": {\"gridcolor\": \"white\", \"linecolor\": \"white\", \"ticks\": \"\"}, \"bgcolor\": \"#E5ECF6\", \"caxis\": {\"gridcolor\": \"white\", \"linecolor\": \"white\", \"ticks\": \"\"}}, \"title\": {\"x\": 0.05}, \"xaxis\": {\"automargin\": true, \"gridcolor\": \"white\", \"linecolor\": \"white\", \"ticks\": \"\", \"title\": {\"standoff\": 15}, \"zerolinecolor\": \"white\", \"zerolinewidth\": 2}, \"yaxis\": {\"automargin\": true, \"gridcolor\": \"white\", \"linecolor\": \"white\", \"ticks\": \"\", \"title\": {\"standoff\": 15}, \"zerolinecolor\": \"white\", \"zerolinewidth\": 2}}}, \"title\": {\"text\": \"Texture Mean Probablity Distribution\"}, \"xaxis\": {\"anchor\": \"y\", \"domain\": [0.0, 1.0], \"title\": {\"text\": \"texture_mean\"}}, \"yaxis\": {\"anchor\": \"x\", \"domain\": [0.0, 1.0], \"title\": {\"text\": \"count\"}}},                        {\"responsive\": true}                    ).then(function(){\n",
       "                            \n",
       "var gd = document.getElementById('31fc44f3-47df-41f4-884b-19c04f19265c');\n",
       "var x = new MutationObserver(function (mutations, observer) {{\n",
       "        var display = window.getComputedStyle(gd).display;\n",
       "        if (!display || display === 'none') {{\n",
       "            console.log([gd, 'removed!']);\n",
       "            Plotly.purge(gd);\n",
       "            observer.disconnect();\n",
       "        }}\n",
       "}});\n",
       "\n",
       "// Listen for the removal of the full notebook cells\n",
       "var notebookContainer = gd.closest('#notebook-container');\n",
       "if (notebookContainer) {{\n",
       "    x.observe(notebookContainer, {childList: true});\n",
       "}}\n",
       "\n",
       "// Listen for the clearing of the current output cell\n",
       "var outputEl = gd.closest('.output');\n",
       "if (outputEl) {{\n",
       "    x.observe(outputEl, {childList: true});\n",
       "}}\n",
       "\n",
       "                        })                };                });            </script>        </div>"
      ]
     },
     "metadata": {},
     "output_type": "display_data"
    }
   ],
   "source": [
    "px.histogram(data_frame=train_data , x = \"texture_mean\",color=\"diagnosis\",title=\"Texture Mean Probablity Distribution\")"
   ]
  },
  {
   "cell_type": "code",
   "execution_count": 17,
   "metadata": {},
   "outputs": [
    {
     "data": {
      "application/vnd.plotly.v1+json": {
       "config": {
        "plotlyServerURL": "https://plot.ly"
       },
       "data": [
        {
         "alignmentgroup": "True",
         "bingroup": "x",
         "hovertemplate": "diagnosis=True<br>perimeter_mean=%{x}<br>count=%{y}<extra></extra>",
         "legendgroup": "True",
         "marker": {
          "color": "#636efa"
         },
         "name": "True",
         "offsetgroup": "True",
         "orientation": "v",
         "showlegend": true,
         "type": "histogram",
         "x": [
          122.8,
          132.9,
          130,
          77.58,
          135.1,
          82.57,
          119.6,
          90.2,
          87.5,
          83.97,
          102.7,
          103.6,
          132.4,
          103.7,
          93.6,
          96.73,
          94.74,
          108.1,
          130,
          102.5,
          137.2,
          110,
          116,
          97.41,
          122.1,
          102.4,
          115,
          124.8,
          77.93,
          112.8,
          127.9,
          107,
          110.1,
          93.63,
          95.54,
          88.4,
          86.18,
          71.9,
          128.3,
          87.32,
          85.42,
          123.7,
          85.98,
          120.3,
          97.26,
          125.5,
          95.55,
          96.42,
          82.69,
          97.4,
          123.6,
          114.2,
          90.43,
          104.1,
          120.2,
          143.7,
          171.5,
          129.1,
          121.1,
          94.25,
          122,
          100.2,
          100.3,
          132.4,
          94.48,
          88.05,
          87.21,
          152.8,
          98.64,
          105.7,
          114.2,
          121.4,
          166.2,
          87.76,
          123.4,
          130.4,
          101.7,
          106.2,
          120.2,
          81.72,
          96.85,
          105.1,
          78.99,
          117.4,
          126.3,
          130.7,
          152.1,
          109.3,
          116.1,
          85.84,
          102.5,
          109.3,
          182.1,
          142.7,
          101.2,
          98.92,
          118.6,
          94.37,
          81.15,
          100.4,
          90.63,
          117.4,
          127.5,
          94.49,
          115.1,
          158.9,
          91.56,
          98.78,
          109.7,
          134.7,
          188.5,
          114.5,
          92.87,
          90.96,
          129.7,
          128,
          102.6,
          85.26,
          113.4,
          134.4,
          153.5,
          132.5,
          113.4,
          129.1,
          138.9,
          130.7,
          113,
          126.5,
          91.43,
          133.6,
          103.2,
          110.2,
          103.7,
          132.9,
          111,
          114.4,
          100,
          111.6,
          135.7,
          147.3,
          115.2,
          120.9,
          126.2,
          127.2,
          108.8,
          75,
          129.5,
          134.7,
          118.7,
          131.1,
          135.9,
          106.9,
          107.5,
          105.8,
          111.8,
          122.9,
          155.1,
          129.9,
          107.1,
          174.2,
          98,
          133.8,
          133.7,
          140.9,
          147.2,
          109,
          141.3,
          134.8,
          73.3,
          93.97,
          128.9,
          102.4,
          144.4,
          124.4,
          117.8,
          96.71,
          102.9,
          102.1,
          133.8,
          123.7,
          91.12,
          112.4,
          117.5,
          117.3,
          138.1,
          127.7,
          111.2,
          186.9,
          119,
          109.8,
          128.1,
          107.1,
          118.4,
          121.3,
          137.8,
          92.33,
          152.1,
          103.8,
          88.64,
          97.26,
          120.8,
          130.5,
          165.5,
          134.7,
          137.8,
          93.77,
          103.4,
          143,
          142,
          131.2,
          108.3,
          140.1
         ],
         "xaxis": "x",
         "yaxis": "y"
        },
        {
         "alignmentgroup": "True",
         "bingroup": "x",
         "hovertemplate": "diagnosis=False<br>perimeter_mean=%{x}<br>count=%{y}<extra></extra>",
         "legendgroup": "False",
         "marker": {
          "color": "#EF553B"
         },
         "name": "False",
         "offsetgroup": "False",
         "orientation": "v",
         "showlegend": true,
         "type": "histogram",
         "x": [
          87.46,
          85.63,
          60.34,
          82.61,
          51.71,
          78.04,
          86.91,
          74.72,
          87.21,
          75.71,
          73.34,
          82.61,
          54.34,
          64.55,
          54.66,
          59.2,
          60.11,
          71.8,
          58.79,
          81.37,
          58.79,
          79.19,
          87.91,
          83.19,
          73.81,
          86.49,
          76.95,
          79.78,
          95.77,
          94.57,
          84.74,
          86.6,
          77.79,
          62.11,
          74.34,
          43.79,
          77.22,
          63.95,
          67.41,
          75.17,
          79.01,
          72.48,
          62.5,
          82.15,
          97.83,
          68.64,
          55.84,
          76.53,
          58.74,
          73.34,
          94.28,
          86.1,
          88.44,
          99.58,
          79.08,
          102,
          74.72,
          73.06,
          73,
          61.24,
          73.66,
          83.74,
          68.26,
          78.11,
          97.84,
          93.97,
          88.12,
          83.51,
          53.27,
          63.78,
          70.87,
          85.31,
          78.27,
          108.4,
          76.84,
          68.69,
          76.1,
          79.85,
          95.5,
          68.77,
          96.22,
          78.85,
          70.21,
          67.49,
          54.42,
          64.6,
          82.01,
          81.29,
          73.53,
          63.76,
          74.68,
          75.27,
          78.83,
          82.02,
          60.73,
          82.53,
          78.54,
          81.09,
          62.92,
          87.02,
          98.17,
          75.51,
          77.32,
          65.05,
          87.88,
          88.59,
          65.12,
          84.55,
          92.51,
          66.62,
          97.45,
          81.35,
          71.76,
          70.79,
          60.21,
          89.79,
          92.55,
          87.38,
          78.61,
          73.93,
          88.54,
          66.72,
          84.13,
          84.95,
          68.01,
          73.87,
          73.28,
          69.28,
          87.16,
          82.38,
          69.5,
          90.3,
          72.23,
          61.5,
          76.2,
          71.79,
          86.24,
          88.99,
          74.24,
          84.08,
          79.83,
          77.87,
          81.89,
          73.72,
          72.17,
          96.03,
          97.03,
          83.14,
          75.54,
          81.78,
          88.06,
          69.14,
          91.22,
          66.85,
          80.43,
          66.86,
          73.59,
          74.23,
          84.07,
          56.36,
          85.69,
          82.71,
          74.33,
          92.68,
          82.29,
          73.73,
          54.09,
          79.19,
          77.25,
          60.07,
          78.6,
          66.52,
          82.82,
          78.01,
          81.25,
          90.03,
          76.09,
          84.52,
          71.94,
          71.38,
          77.88,
          84.08,
          64.41,
          94.15,
          61.64,
          71.49,
          75.03,
          66.2,
          76.66,
          94.87,
          73.02,
          77.23,
          73.7,
          71.24,
          81.92,
          85.09,
          88.52,
          56.74,
          59.82,
          79.42,
          85.24,
          81.87,
          106.6,
          85.48,
          78.31,
          97.65,
          87.84,
          106.3,
          70.15,
          85.89,
          88.27,
          73.16,
          70.67,
          78.75,
          80.64,
          85.79,
          78.78,
          88.37,
          73.38,
          65.75,
          55.27,
          78.07,
          89.75,
          88.1,
          83.05,
          70.31,
          75.26
         ],
         "xaxis": "x",
         "yaxis": "y"
        }
       ],
       "layout": {
        "barmode": "relative",
        "legend": {
         "title": {
          "text": "diagnosis"
         },
         "tracegroupgap": 0
        },
        "template": {
         "data": {
          "bar": [
           {
            "error_x": {
             "color": "#2a3f5f"
            },
            "error_y": {
             "color": "#2a3f5f"
            },
            "marker": {
             "line": {
              "color": "#E5ECF6",
              "width": 0.5
             }
            },
            "type": "bar"
           }
          ],
          "barpolar": [
           {
            "marker": {
             "line": {
              "color": "#E5ECF6",
              "width": 0.5
             }
            },
            "type": "barpolar"
           }
          ],
          "carpet": [
           {
            "aaxis": {
             "endlinecolor": "#2a3f5f",
             "gridcolor": "white",
             "linecolor": "white",
             "minorgridcolor": "white",
             "startlinecolor": "#2a3f5f"
            },
            "baxis": {
             "endlinecolor": "#2a3f5f",
             "gridcolor": "white",
             "linecolor": "white",
             "minorgridcolor": "white",
             "startlinecolor": "#2a3f5f"
            },
            "type": "carpet"
           }
          ],
          "choropleth": [
           {
            "colorbar": {
             "outlinewidth": 0,
             "ticks": ""
            },
            "type": "choropleth"
           }
          ],
          "contour": [
           {
            "colorbar": {
             "outlinewidth": 0,
             "ticks": ""
            },
            "colorscale": [
             [
              0,
              "#0d0887"
             ],
             [
              0.1111111111111111,
              "#46039f"
             ],
             [
              0.2222222222222222,
              "#7201a8"
             ],
             [
              0.3333333333333333,
              "#9c179e"
             ],
             [
              0.4444444444444444,
              "#bd3786"
             ],
             [
              0.5555555555555556,
              "#d8576b"
             ],
             [
              0.6666666666666666,
              "#ed7953"
             ],
             [
              0.7777777777777778,
              "#fb9f3a"
             ],
             [
              0.8888888888888888,
              "#fdca26"
             ],
             [
              1,
              "#f0f921"
             ]
            ],
            "type": "contour"
           }
          ],
          "contourcarpet": [
           {
            "colorbar": {
             "outlinewidth": 0,
             "ticks": ""
            },
            "type": "contourcarpet"
           }
          ],
          "heatmap": [
           {
            "colorbar": {
             "outlinewidth": 0,
             "ticks": ""
            },
            "colorscale": [
             [
              0,
              "#0d0887"
             ],
             [
              0.1111111111111111,
              "#46039f"
             ],
             [
              0.2222222222222222,
              "#7201a8"
             ],
             [
              0.3333333333333333,
              "#9c179e"
             ],
             [
              0.4444444444444444,
              "#bd3786"
             ],
             [
              0.5555555555555556,
              "#d8576b"
             ],
             [
              0.6666666666666666,
              "#ed7953"
             ],
             [
              0.7777777777777778,
              "#fb9f3a"
             ],
             [
              0.8888888888888888,
              "#fdca26"
             ],
             [
              1,
              "#f0f921"
             ]
            ],
            "type": "heatmap"
           }
          ],
          "heatmapgl": [
           {
            "colorbar": {
             "outlinewidth": 0,
             "ticks": ""
            },
            "colorscale": [
             [
              0,
              "#0d0887"
             ],
             [
              0.1111111111111111,
              "#46039f"
             ],
             [
              0.2222222222222222,
              "#7201a8"
             ],
             [
              0.3333333333333333,
              "#9c179e"
             ],
             [
              0.4444444444444444,
              "#bd3786"
             ],
             [
              0.5555555555555556,
              "#d8576b"
             ],
             [
              0.6666666666666666,
              "#ed7953"
             ],
             [
              0.7777777777777778,
              "#fb9f3a"
             ],
             [
              0.8888888888888888,
              "#fdca26"
             ],
             [
              1,
              "#f0f921"
             ]
            ],
            "type": "heatmapgl"
           }
          ],
          "histogram": [
           {
            "marker": {
             "colorbar": {
              "outlinewidth": 0,
              "ticks": ""
             }
            },
            "type": "histogram"
           }
          ],
          "histogram2d": [
           {
            "colorbar": {
             "outlinewidth": 0,
             "ticks": ""
            },
            "colorscale": [
             [
              0,
              "#0d0887"
             ],
             [
              0.1111111111111111,
              "#46039f"
             ],
             [
              0.2222222222222222,
              "#7201a8"
             ],
             [
              0.3333333333333333,
              "#9c179e"
             ],
             [
              0.4444444444444444,
              "#bd3786"
             ],
             [
              0.5555555555555556,
              "#d8576b"
             ],
             [
              0.6666666666666666,
              "#ed7953"
             ],
             [
              0.7777777777777778,
              "#fb9f3a"
             ],
             [
              0.8888888888888888,
              "#fdca26"
             ],
             [
              1,
              "#f0f921"
             ]
            ],
            "type": "histogram2d"
           }
          ],
          "histogram2dcontour": [
           {
            "colorbar": {
             "outlinewidth": 0,
             "ticks": ""
            },
            "colorscale": [
             [
              0,
              "#0d0887"
             ],
             [
              0.1111111111111111,
              "#46039f"
             ],
             [
              0.2222222222222222,
              "#7201a8"
             ],
             [
              0.3333333333333333,
              "#9c179e"
             ],
             [
              0.4444444444444444,
              "#bd3786"
             ],
             [
              0.5555555555555556,
              "#d8576b"
             ],
             [
              0.6666666666666666,
              "#ed7953"
             ],
             [
              0.7777777777777778,
              "#fb9f3a"
             ],
             [
              0.8888888888888888,
              "#fdca26"
             ],
             [
              1,
              "#f0f921"
             ]
            ],
            "type": "histogram2dcontour"
           }
          ],
          "mesh3d": [
           {
            "colorbar": {
             "outlinewidth": 0,
             "ticks": ""
            },
            "type": "mesh3d"
           }
          ],
          "parcoords": [
           {
            "line": {
             "colorbar": {
              "outlinewidth": 0,
              "ticks": ""
             }
            },
            "type": "parcoords"
           }
          ],
          "pie": [
           {
            "automargin": true,
            "type": "pie"
           }
          ],
          "scatter": [
           {
            "marker": {
             "colorbar": {
              "outlinewidth": 0,
              "ticks": ""
             }
            },
            "type": "scatter"
           }
          ],
          "scatter3d": [
           {
            "line": {
             "colorbar": {
              "outlinewidth": 0,
              "ticks": ""
             }
            },
            "marker": {
             "colorbar": {
              "outlinewidth": 0,
              "ticks": ""
             }
            },
            "type": "scatter3d"
           }
          ],
          "scattercarpet": [
           {
            "marker": {
             "colorbar": {
              "outlinewidth": 0,
              "ticks": ""
             }
            },
            "type": "scattercarpet"
           }
          ],
          "scattergeo": [
           {
            "marker": {
             "colorbar": {
              "outlinewidth": 0,
              "ticks": ""
             }
            },
            "type": "scattergeo"
           }
          ],
          "scattergl": [
           {
            "marker": {
             "colorbar": {
              "outlinewidth": 0,
              "ticks": ""
             }
            },
            "type": "scattergl"
           }
          ],
          "scattermapbox": [
           {
            "marker": {
             "colorbar": {
              "outlinewidth": 0,
              "ticks": ""
             }
            },
            "type": "scattermapbox"
           }
          ],
          "scatterpolar": [
           {
            "marker": {
             "colorbar": {
              "outlinewidth": 0,
              "ticks": ""
             }
            },
            "type": "scatterpolar"
           }
          ],
          "scatterpolargl": [
           {
            "marker": {
             "colorbar": {
              "outlinewidth": 0,
              "ticks": ""
             }
            },
            "type": "scatterpolargl"
           }
          ],
          "scatterternary": [
           {
            "marker": {
             "colorbar": {
              "outlinewidth": 0,
              "ticks": ""
             }
            },
            "type": "scatterternary"
           }
          ],
          "surface": [
           {
            "colorbar": {
             "outlinewidth": 0,
             "ticks": ""
            },
            "colorscale": [
             [
              0,
              "#0d0887"
             ],
             [
              0.1111111111111111,
              "#46039f"
             ],
             [
              0.2222222222222222,
              "#7201a8"
             ],
             [
              0.3333333333333333,
              "#9c179e"
             ],
             [
              0.4444444444444444,
              "#bd3786"
             ],
             [
              0.5555555555555556,
              "#d8576b"
             ],
             [
              0.6666666666666666,
              "#ed7953"
             ],
             [
              0.7777777777777778,
              "#fb9f3a"
             ],
             [
              0.8888888888888888,
              "#fdca26"
             ],
             [
              1,
              "#f0f921"
             ]
            ],
            "type": "surface"
           }
          ],
          "table": [
           {
            "cells": {
             "fill": {
              "color": "#EBF0F8"
             },
             "line": {
              "color": "white"
             }
            },
            "header": {
             "fill": {
              "color": "#C8D4E3"
             },
             "line": {
              "color": "white"
             }
            },
            "type": "table"
           }
          ]
         },
         "layout": {
          "annotationdefaults": {
           "arrowcolor": "#2a3f5f",
           "arrowhead": 0,
           "arrowwidth": 1
          },
          "coloraxis": {
           "colorbar": {
            "outlinewidth": 0,
            "ticks": ""
           }
          },
          "colorscale": {
           "diverging": [
            [
             0,
             "#8e0152"
            ],
            [
             0.1,
             "#c51b7d"
            ],
            [
             0.2,
             "#de77ae"
            ],
            [
             0.3,
             "#f1b6da"
            ],
            [
             0.4,
             "#fde0ef"
            ],
            [
             0.5,
             "#f7f7f7"
            ],
            [
             0.6,
             "#e6f5d0"
            ],
            [
             0.7,
             "#b8e186"
            ],
            [
             0.8,
             "#7fbc41"
            ],
            [
             0.9,
             "#4d9221"
            ],
            [
             1,
             "#276419"
            ]
           ],
           "sequential": [
            [
             0,
             "#0d0887"
            ],
            [
             0.1111111111111111,
             "#46039f"
            ],
            [
             0.2222222222222222,
             "#7201a8"
            ],
            [
             0.3333333333333333,
             "#9c179e"
            ],
            [
             0.4444444444444444,
             "#bd3786"
            ],
            [
             0.5555555555555556,
             "#d8576b"
            ],
            [
             0.6666666666666666,
             "#ed7953"
            ],
            [
             0.7777777777777778,
             "#fb9f3a"
            ],
            [
             0.8888888888888888,
             "#fdca26"
            ],
            [
             1,
             "#f0f921"
            ]
           ],
           "sequentialminus": [
            [
             0,
             "#0d0887"
            ],
            [
             0.1111111111111111,
             "#46039f"
            ],
            [
             0.2222222222222222,
             "#7201a8"
            ],
            [
             0.3333333333333333,
             "#9c179e"
            ],
            [
             0.4444444444444444,
             "#bd3786"
            ],
            [
             0.5555555555555556,
             "#d8576b"
            ],
            [
             0.6666666666666666,
             "#ed7953"
            ],
            [
             0.7777777777777778,
             "#fb9f3a"
            ],
            [
             0.8888888888888888,
             "#fdca26"
            ],
            [
             1,
             "#f0f921"
            ]
           ]
          },
          "colorway": [
           "#636efa",
           "#EF553B",
           "#00cc96",
           "#ab63fa",
           "#FFA15A",
           "#19d3f3",
           "#FF6692",
           "#B6E880",
           "#FF97FF",
           "#FECB52"
          ],
          "font": {
           "color": "#2a3f5f"
          },
          "geo": {
           "bgcolor": "white",
           "lakecolor": "white",
           "landcolor": "#E5ECF6",
           "showlakes": true,
           "showland": true,
           "subunitcolor": "white"
          },
          "hoverlabel": {
           "align": "left"
          },
          "hovermode": "closest",
          "mapbox": {
           "style": "light"
          },
          "paper_bgcolor": "white",
          "plot_bgcolor": "#E5ECF6",
          "polar": {
           "angularaxis": {
            "gridcolor": "white",
            "linecolor": "white",
            "ticks": ""
           },
           "bgcolor": "#E5ECF6",
           "radialaxis": {
            "gridcolor": "white",
            "linecolor": "white",
            "ticks": ""
           }
          },
          "scene": {
           "xaxis": {
            "backgroundcolor": "#E5ECF6",
            "gridcolor": "white",
            "gridwidth": 2,
            "linecolor": "white",
            "showbackground": true,
            "ticks": "",
            "zerolinecolor": "white"
           },
           "yaxis": {
            "backgroundcolor": "#E5ECF6",
            "gridcolor": "white",
            "gridwidth": 2,
            "linecolor": "white",
            "showbackground": true,
            "ticks": "",
            "zerolinecolor": "white"
           },
           "zaxis": {
            "backgroundcolor": "#E5ECF6",
            "gridcolor": "white",
            "gridwidth": 2,
            "linecolor": "white",
            "showbackground": true,
            "ticks": "",
            "zerolinecolor": "white"
           }
          },
          "shapedefaults": {
           "line": {
            "color": "#2a3f5f"
           }
          },
          "ternary": {
           "aaxis": {
            "gridcolor": "white",
            "linecolor": "white",
            "ticks": ""
           },
           "baxis": {
            "gridcolor": "white",
            "linecolor": "white",
            "ticks": ""
           },
           "bgcolor": "#E5ECF6",
           "caxis": {
            "gridcolor": "white",
            "linecolor": "white",
            "ticks": ""
           }
          },
          "title": {
           "x": 0.05
          },
          "xaxis": {
           "automargin": true,
           "gridcolor": "white",
           "linecolor": "white",
           "ticks": "",
           "title": {
            "standoff": 15
           },
           "zerolinecolor": "white",
           "zerolinewidth": 2
          },
          "yaxis": {
           "automargin": true,
           "gridcolor": "white",
           "linecolor": "white",
           "ticks": "",
           "title": {
            "standoff": 15
           },
           "zerolinecolor": "white",
           "zerolinewidth": 2
          }
         }
        },
        "title": {
         "text": "Texture Mean Probablity Distribution"
        },
        "xaxis": {
         "anchor": "y",
         "domain": [
          0,
          1
         ],
         "title": {
          "text": "perimeter_mean"
         }
        },
        "yaxis": {
         "anchor": "x",
         "domain": [
          0,
          1
         ],
         "title": {
          "text": "count"
         }
        }
       }
      },
      "text/html": [
       "<div>                            <div id=\"b5fc28de-267f-4d80-a422-ad90b891e2de\" class=\"plotly-graph-div\" style=\"height:525px; width:100%;\"></div>            <script type=\"text/javascript\">                require([\"plotly\"], function(Plotly) {                    window.PLOTLYENV=window.PLOTLYENV || {};                                    if (document.getElementById(\"b5fc28de-267f-4d80-a422-ad90b891e2de\")) {                    Plotly.newPlot(                        \"b5fc28de-267f-4d80-a422-ad90b891e2de\",                        [{\"alignmentgroup\": \"True\", \"bingroup\": \"x\", \"hovertemplate\": \"diagnosis=True<br>perimeter_mean=%{x}<br>count=%{y}<extra></extra>\", \"legendgroup\": \"True\", \"marker\": {\"color\": \"#636efa\"}, \"name\": \"True\", \"offsetgroup\": \"True\", \"orientation\": \"v\", \"showlegend\": true, \"type\": \"histogram\", \"x\": [122.8, 132.9, 130.0, 77.58, 135.1, 82.57, 119.6, 90.2, 87.5, 83.97, 102.7, 103.6, 132.4, 103.7, 93.6, 96.73, 94.74, 108.1, 130.0, 102.5, 137.2, 110.0, 116.0, 97.41, 122.1, 102.4, 115.0, 124.8, 77.93, 112.8, 127.9, 107.0, 110.1, 93.63, 95.54, 88.4, 86.18, 71.9, 128.3, 87.32, 85.42, 123.7, 85.98, 120.3, 97.26, 125.5, 95.55, 96.42, 82.69, 97.4, 123.6, 114.2, 90.43, 104.1, 120.2, 143.7, 171.5, 129.1, 121.1, 94.25, 122.0, 100.2, 100.3, 132.4, 94.48, 88.05, 87.21, 152.8, 98.64, 105.7, 114.2, 121.4, 166.2, 87.76, 123.4, 130.4, 101.7, 106.2, 120.2, 81.72, 96.85, 105.1, 78.99, 117.4, 126.3, 130.7, 152.1, 109.3, 116.1, 85.84, 102.5, 109.3, 182.1, 142.7, 101.2, 98.92, 118.6, 94.37, 81.15, 100.4, 90.63, 117.4, 127.5, 94.49, 115.1, 158.9, 91.56, 98.78, 109.7, 134.7, 188.5, 114.5, 92.87, 90.96, 129.7, 128.0, 102.6, 85.26, 113.4, 134.4, 153.5, 132.5, 113.4, 129.1, 138.9, 130.7, 113.0, 126.5, 91.43, 133.6, 103.2, 110.2, 103.7, 132.9, 111.0, 114.4, 100.0, 111.6, 135.7, 147.3, 115.2, 120.9, 126.2, 127.2, 108.8, 75.0, 129.5, 134.7, 118.7, 131.1, 135.9, 106.9, 107.5, 105.8, 111.8, 122.9, 155.1, 129.9, 107.1, 174.2, 98.0, 133.8, 133.7, 140.9, 147.2, 109.0, 141.3, 134.8, 73.3, 93.97, 128.9, 102.4, 144.4, 124.4, 117.8, 96.71, 102.9, 102.1, 133.8, 123.7, 91.12, 112.4, 117.5, 117.3, 138.1, 127.7, 111.2, 186.9, 119.0, 109.8, 128.1, 107.1, 118.4, 121.3, 137.8, 92.33, 152.1, 103.8, 88.64, 97.26, 120.8, 130.5, 165.5, 134.7, 137.8, 93.77, 103.4, 143.0, 142.0, 131.2, 108.3, 140.1], \"xaxis\": \"x\", \"yaxis\": \"y\"}, {\"alignmentgroup\": \"True\", \"bingroup\": \"x\", \"hovertemplate\": \"diagnosis=False<br>perimeter_mean=%{x}<br>count=%{y}<extra></extra>\", \"legendgroup\": \"False\", \"marker\": {\"color\": \"#EF553B\"}, \"name\": \"False\", \"offsetgroup\": \"False\", \"orientation\": \"v\", \"showlegend\": true, \"type\": \"histogram\", \"x\": [87.46, 85.63, 60.34, 82.61, 51.71, 78.04, 86.91, 74.72, 87.21, 75.71, 73.34, 82.61, 54.34, 64.55, 54.66, 59.2, 60.11, 71.8, 58.79, 81.37, 58.79, 79.19, 87.91, 83.19, 73.81, 86.49, 76.95, 79.78, 95.77, 94.57, 84.74, 86.6, 77.79, 62.11, 74.34, 43.79, 77.22, 63.95, 67.41, 75.17, 79.01, 72.48, 62.5, 82.15, 97.83, 68.64, 55.84, 76.53, 58.74, 73.34, 94.28, 86.1, 88.44, 99.58, 79.08, 102.0, 74.72, 73.06, 73.0, 61.24, 73.66, 83.74, 68.26, 78.11, 97.84, 93.97, 88.12, 83.51, 53.27, 63.78, 70.87, 85.31, 78.27, 108.4, 76.84, 68.69, 76.1, 79.85, 95.5, 68.77, 96.22, 78.85, 70.21, 67.49, 54.42, 64.6, 82.01, 81.29, 73.53, 63.76, 74.68, 75.27, 78.83, 82.02, 60.73, 82.53, 78.54, 81.09, 62.92, 87.02, 98.17, 75.51, 77.32, 65.05, 87.88, 88.59, 65.12, 84.55, 92.51, 66.62, 97.45, 81.35, 71.76, 70.79, 60.21, 89.79, 92.55, 87.38, 78.61, 73.93, 88.54, 66.72, 84.13, 84.95, 68.01, 73.87, 73.28, 69.28, 87.16, 82.38, 69.5, 90.3, 72.23, 61.5, 76.2, 71.79, 86.24, 88.99, 74.24, 84.08, 79.83, 77.87, 81.89, 73.72, 72.17, 96.03, 97.03, 83.14, 75.54, 81.78, 88.06, 69.14, 91.22, 66.85, 80.43, 66.86, 73.59, 74.23, 84.07, 56.36, 85.69, 82.71, 74.33, 92.68, 82.29, 73.73, 54.09, 79.19, 77.25, 60.07, 78.6, 66.52, 82.82, 78.01, 81.25, 90.03, 76.09, 84.52, 71.94, 71.38, 77.88, 84.08, 64.41, 94.15, 61.64, 71.49, 75.03, 66.2, 76.66, 94.87, 73.02, 77.23, 73.7, 71.24, 81.92, 85.09, 88.52, 56.74, 59.82, 79.42, 85.24, 81.87, 106.6, 85.48, 78.31, 97.65, 87.84, 106.3, 70.15, 85.89, 88.27, 73.16, 70.67, 78.75, 80.64, 85.79, 78.78, 88.37, 73.38, 65.75, 55.27, 78.07, 89.75, 88.1, 83.05, 70.31, 75.26], \"xaxis\": \"x\", \"yaxis\": \"y\"}],                        {\"barmode\": \"relative\", \"legend\": {\"title\": {\"text\": \"diagnosis\"}, \"tracegroupgap\": 0}, \"template\": {\"data\": {\"bar\": [{\"error_x\": {\"color\": \"#2a3f5f\"}, \"error_y\": {\"color\": \"#2a3f5f\"}, \"marker\": {\"line\": {\"color\": \"#E5ECF6\", \"width\": 0.5}}, \"type\": \"bar\"}], \"barpolar\": [{\"marker\": {\"line\": {\"color\": \"#E5ECF6\", \"width\": 0.5}}, \"type\": \"barpolar\"}], \"carpet\": [{\"aaxis\": {\"endlinecolor\": \"#2a3f5f\", \"gridcolor\": \"white\", \"linecolor\": \"white\", \"minorgridcolor\": \"white\", \"startlinecolor\": \"#2a3f5f\"}, \"baxis\": {\"endlinecolor\": \"#2a3f5f\", \"gridcolor\": \"white\", \"linecolor\": \"white\", \"minorgridcolor\": \"white\", \"startlinecolor\": \"#2a3f5f\"}, \"type\": \"carpet\"}], \"choropleth\": [{\"colorbar\": {\"outlinewidth\": 0, \"ticks\": \"\"}, \"type\": \"choropleth\"}], \"contour\": [{\"colorbar\": {\"outlinewidth\": 0, \"ticks\": \"\"}, \"colorscale\": [[0.0, \"#0d0887\"], [0.1111111111111111, \"#46039f\"], [0.2222222222222222, \"#7201a8\"], [0.3333333333333333, \"#9c179e\"], [0.4444444444444444, \"#bd3786\"], [0.5555555555555556, \"#d8576b\"], [0.6666666666666666, \"#ed7953\"], [0.7777777777777778, \"#fb9f3a\"], [0.8888888888888888, \"#fdca26\"], [1.0, \"#f0f921\"]], \"type\": \"contour\"}], \"contourcarpet\": [{\"colorbar\": {\"outlinewidth\": 0, \"ticks\": \"\"}, \"type\": \"contourcarpet\"}], \"heatmap\": [{\"colorbar\": {\"outlinewidth\": 0, \"ticks\": \"\"}, \"colorscale\": [[0.0, \"#0d0887\"], [0.1111111111111111, \"#46039f\"], [0.2222222222222222, \"#7201a8\"], [0.3333333333333333, \"#9c179e\"], [0.4444444444444444, \"#bd3786\"], [0.5555555555555556, \"#d8576b\"], [0.6666666666666666, \"#ed7953\"], [0.7777777777777778, \"#fb9f3a\"], [0.8888888888888888, \"#fdca26\"], [1.0, \"#f0f921\"]], \"type\": \"heatmap\"}], \"heatmapgl\": [{\"colorbar\": {\"outlinewidth\": 0, \"ticks\": \"\"}, \"colorscale\": [[0.0, \"#0d0887\"], [0.1111111111111111, \"#46039f\"], [0.2222222222222222, \"#7201a8\"], [0.3333333333333333, \"#9c179e\"], [0.4444444444444444, \"#bd3786\"], [0.5555555555555556, \"#d8576b\"], [0.6666666666666666, \"#ed7953\"], [0.7777777777777778, \"#fb9f3a\"], [0.8888888888888888, \"#fdca26\"], [1.0, \"#f0f921\"]], \"type\": \"heatmapgl\"}], \"histogram\": [{\"marker\": {\"colorbar\": {\"outlinewidth\": 0, \"ticks\": \"\"}}, \"type\": \"histogram\"}], \"histogram2d\": [{\"colorbar\": {\"outlinewidth\": 0, \"ticks\": \"\"}, \"colorscale\": [[0.0, \"#0d0887\"], [0.1111111111111111, \"#46039f\"], [0.2222222222222222, \"#7201a8\"], [0.3333333333333333, \"#9c179e\"], [0.4444444444444444, \"#bd3786\"], [0.5555555555555556, \"#d8576b\"], [0.6666666666666666, \"#ed7953\"], [0.7777777777777778, \"#fb9f3a\"], [0.8888888888888888, \"#fdca26\"], [1.0, \"#f0f921\"]], \"type\": \"histogram2d\"}], \"histogram2dcontour\": [{\"colorbar\": {\"outlinewidth\": 0, \"ticks\": \"\"}, \"colorscale\": [[0.0, \"#0d0887\"], [0.1111111111111111, \"#46039f\"], [0.2222222222222222, \"#7201a8\"], [0.3333333333333333, \"#9c179e\"], [0.4444444444444444, \"#bd3786\"], [0.5555555555555556, \"#d8576b\"], [0.6666666666666666, \"#ed7953\"], [0.7777777777777778, \"#fb9f3a\"], [0.8888888888888888, \"#fdca26\"], [1.0, \"#f0f921\"]], \"type\": \"histogram2dcontour\"}], \"mesh3d\": [{\"colorbar\": {\"outlinewidth\": 0, \"ticks\": \"\"}, \"type\": \"mesh3d\"}], \"parcoords\": [{\"line\": {\"colorbar\": {\"outlinewidth\": 0, \"ticks\": \"\"}}, \"type\": \"parcoords\"}], \"pie\": [{\"automargin\": true, \"type\": \"pie\"}], \"scatter\": [{\"marker\": {\"colorbar\": {\"outlinewidth\": 0, \"ticks\": \"\"}}, \"type\": \"scatter\"}], \"scatter3d\": [{\"line\": {\"colorbar\": {\"outlinewidth\": 0, \"ticks\": \"\"}}, \"marker\": {\"colorbar\": {\"outlinewidth\": 0, \"ticks\": \"\"}}, \"type\": \"scatter3d\"}], \"scattercarpet\": [{\"marker\": {\"colorbar\": {\"outlinewidth\": 0, \"ticks\": \"\"}}, \"type\": \"scattercarpet\"}], \"scattergeo\": [{\"marker\": {\"colorbar\": {\"outlinewidth\": 0, \"ticks\": \"\"}}, \"type\": \"scattergeo\"}], \"scattergl\": [{\"marker\": {\"colorbar\": {\"outlinewidth\": 0, \"ticks\": \"\"}}, \"type\": \"scattergl\"}], \"scattermapbox\": [{\"marker\": {\"colorbar\": {\"outlinewidth\": 0, \"ticks\": \"\"}}, \"type\": \"scattermapbox\"}], \"scatterpolar\": [{\"marker\": {\"colorbar\": {\"outlinewidth\": 0, \"ticks\": \"\"}}, \"type\": \"scatterpolar\"}], \"scatterpolargl\": [{\"marker\": {\"colorbar\": {\"outlinewidth\": 0, \"ticks\": \"\"}}, \"type\": \"scatterpolargl\"}], \"scatterternary\": [{\"marker\": {\"colorbar\": {\"outlinewidth\": 0, \"ticks\": \"\"}}, \"type\": \"scatterternary\"}], \"surface\": [{\"colorbar\": {\"outlinewidth\": 0, \"ticks\": \"\"}, \"colorscale\": [[0.0, \"#0d0887\"], [0.1111111111111111, \"#46039f\"], [0.2222222222222222, \"#7201a8\"], [0.3333333333333333, \"#9c179e\"], [0.4444444444444444, \"#bd3786\"], [0.5555555555555556, \"#d8576b\"], [0.6666666666666666, \"#ed7953\"], [0.7777777777777778, \"#fb9f3a\"], [0.8888888888888888, \"#fdca26\"], [1.0, \"#f0f921\"]], \"type\": \"surface\"}], \"table\": [{\"cells\": {\"fill\": {\"color\": \"#EBF0F8\"}, \"line\": {\"color\": \"white\"}}, \"header\": {\"fill\": {\"color\": \"#C8D4E3\"}, \"line\": {\"color\": \"white\"}}, \"type\": \"table\"}]}, \"layout\": {\"annotationdefaults\": {\"arrowcolor\": \"#2a3f5f\", \"arrowhead\": 0, \"arrowwidth\": 1}, \"coloraxis\": {\"colorbar\": {\"outlinewidth\": 0, \"ticks\": \"\"}}, \"colorscale\": {\"diverging\": [[0, \"#8e0152\"], [0.1, \"#c51b7d\"], [0.2, \"#de77ae\"], [0.3, \"#f1b6da\"], [0.4, \"#fde0ef\"], [0.5, \"#f7f7f7\"], [0.6, \"#e6f5d0\"], [0.7, \"#b8e186\"], [0.8, \"#7fbc41\"], [0.9, \"#4d9221\"], [1, \"#276419\"]], \"sequential\": [[0.0, \"#0d0887\"], [0.1111111111111111, \"#46039f\"], [0.2222222222222222, \"#7201a8\"], [0.3333333333333333, \"#9c179e\"], [0.4444444444444444, \"#bd3786\"], [0.5555555555555556, \"#d8576b\"], [0.6666666666666666, \"#ed7953\"], [0.7777777777777778, \"#fb9f3a\"], [0.8888888888888888, \"#fdca26\"], [1.0, \"#f0f921\"]], \"sequentialminus\": [[0.0, \"#0d0887\"], [0.1111111111111111, \"#46039f\"], [0.2222222222222222, \"#7201a8\"], [0.3333333333333333, \"#9c179e\"], [0.4444444444444444, \"#bd3786\"], [0.5555555555555556, \"#d8576b\"], [0.6666666666666666, \"#ed7953\"], [0.7777777777777778, \"#fb9f3a\"], [0.8888888888888888, \"#fdca26\"], [1.0, \"#f0f921\"]]}, \"colorway\": [\"#636efa\", \"#EF553B\", \"#00cc96\", \"#ab63fa\", \"#FFA15A\", \"#19d3f3\", \"#FF6692\", \"#B6E880\", \"#FF97FF\", \"#FECB52\"], \"font\": {\"color\": \"#2a3f5f\"}, \"geo\": {\"bgcolor\": \"white\", \"lakecolor\": \"white\", \"landcolor\": \"#E5ECF6\", \"showlakes\": true, \"showland\": true, \"subunitcolor\": \"white\"}, \"hoverlabel\": {\"align\": \"left\"}, \"hovermode\": \"closest\", \"mapbox\": {\"style\": \"light\"}, \"paper_bgcolor\": \"white\", \"plot_bgcolor\": \"#E5ECF6\", \"polar\": {\"angularaxis\": {\"gridcolor\": \"white\", \"linecolor\": \"white\", \"ticks\": \"\"}, \"bgcolor\": \"#E5ECF6\", \"radialaxis\": {\"gridcolor\": \"white\", \"linecolor\": \"white\", \"ticks\": \"\"}}, \"scene\": {\"xaxis\": {\"backgroundcolor\": \"#E5ECF6\", \"gridcolor\": \"white\", \"gridwidth\": 2, \"linecolor\": \"white\", \"showbackground\": true, \"ticks\": \"\", \"zerolinecolor\": \"white\"}, \"yaxis\": {\"backgroundcolor\": \"#E5ECF6\", \"gridcolor\": \"white\", \"gridwidth\": 2, \"linecolor\": \"white\", \"showbackground\": true, \"ticks\": \"\", \"zerolinecolor\": \"white\"}, \"zaxis\": {\"backgroundcolor\": \"#E5ECF6\", \"gridcolor\": \"white\", \"gridwidth\": 2, \"linecolor\": \"white\", \"showbackground\": true, \"ticks\": \"\", \"zerolinecolor\": \"white\"}}, \"shapedefaults\": {\"line\": {\"color\": \"#2a3f5f\"}}, \"ternary\": {\"aaxis\": {\"gridcolor\": \"white\", \"linecolor\": \"white\", \"ticks\": \"\"}, \"baxis\": {\"gridcolor\": \"white\", \"linecolor\": \"white\", \"ticks\": \"\"}, \"bgcolor\": \"#E5ECF6\", \"caxis\": {\"gridcolor\": \"white\", \"linecolor\": \"white\", \"ticks\": \"\"}}, \"title\": {\"x\": 0.05}, \"xaxis\": {\"automargin\": true, \"gridcolor\": \"white\", \"linecolor\": \"white\", \"ticks\": \"\", \"title\": {\"standoff\": 15}, \"zerolinecolor\": \"white\", \"zerolinewidth\": 2}, \"yaxis\": {\"automargin\": true, \"gridcolor\": \"white\", \"linecolor\": \"white\", \"ticks\": \"\", \"title\": {\"standoff\": 15}, \"zerolinecolor\": \"white\", \"zerolinewidth\": 2}}}, \"title\": {\"text\": \"Texture Mean Probablity Distribution\"}, \"xaxis\": {\"anchor\": \"y\", \"domain\": [0.0, 1.0], \"title\": {\"text\": \"perimeter_mean\"}}, \"yaxis\": {\"anchor\": \"x\", \"domain\": [0.0, 1.0], \"title\": {\"text\": \"count\"}}},                        {\"responsive\": true}                    ).then(function(){\n",
       "                            \n",
       "var gd = document.getElementById('b5fc28de-267f-4d80-a422-ad90b891e2de');\n",
       "var x = new MutationObserver(function (mutations, observer) {{\n",
       "        var display = window.getComputedStyle(gd).display;\n",
       "        if (!display || display === 'none') {{\n",
       "            console.log([gd, 'removed!']);\n",
       "            Plotly.purge(gd);\n",
       "            observer.disconnect();\n",
       "        }}\n",
       "}});\n",
       "\n",
       "// Listen for the removal of the full notebook cells\n",
       "var notebookContainer = gd.closest('#notebook-container');\n",
       "if (notebookContainer) {{\n",
       "    x.observe(notebookContainer, {childList: true});\n",
       "}}\n",
       "\n",
       "// Listen for the clearing of the current output cell\n",
       "var outputEl = gd.closest('.output');\n",
       "if (outputEl) {{\n",
       "    x.observe(outputEl, {childList: true});\n",
       "}}\n",
       "\n",
       "                        })                };                });            </script>        </div>"
      ]
     },
     "metadata": {},
     "output_type": "display_data"
    }
   ],
   "source": [
    "px.histogram(data_frame=train_data , x = \"perimeter_mean\",color=\"diagnosis\",title=\"Texture Mean Probablity Distribution\")"
   ]
  },
  {
   "cell_type": "code",
   "execution_count": 18,
   "metadata": {},
   "outputs": [
    {
     "data": {
      "text/plain": [
       "<matplotlib.axes._subplots.AxesSubplot at 0x2835392a2e0>"
      ]
     },
     "execution_count": 18,
     "metadata": {},
     "output_type": "execute_result"
    },
    {
     "data": {
      "image/png": "[encoded data removed]",
      "text/plain": [
       "<Figure size 432x288 with 1 Axes>"
      ]
     },
     "metadata": {
      "needs_background": "light"
     },
     "output_type": "display_data"
    }
   ],
   "source": [
    "# Hence no data imbalance is present here\n",
    "train_data[\"diagnosis\"].value_counts()\n",
    "sns.countplot(x = 'diagnosis',data=train_data)"
   ]
  },
  {
   "cell_type": "markdown",
   "metadata": {},
   "source": [
    "### MVU Estimator:\n",
    "Here we are trying to estimate the paramters of a distribution so as to calculate the likelihood probability.\n",
    "We will find **minimum variance unbiased estimator** which is the closest estimation of the parameter for the distribution.\n",
    "- In case of normal distribution , mvu estimator would be mean(mu) and standard deviation(sigma).\n",
    "- But in this since we are using the Joint Gaussian the estimators will be : **mean(mu)** , **covariance matrix** \n",
    "**Note*: \\\n",
    "The covariance  matrix must be invertible .Since the determinant is in denominator of the formula of multivariate Gaussian."
   ]
  },
  {
   "cell_type": "code",
   "execution_count": 20,
   "metadata": {},
   "outputs": [],
   "source": [
    "class NaiveBaeyesClassifier:\n",
    "    def __init__(self,train_data , train_labels , test_data ,test_labels):\n",
    "        self.train_data=train_data\n",
    "        self.train_labels=train_labels\n",
    "        self.test_data=test_data\n",
    "        self.test_labels = test_labels\n",
    "        self.mu_negative = None\n",
    "        self.mu_positive = None\n",
    "        self.cov_mat_negative = None\n",
    "        self.cov_mat_positive = None\n",
    "        self.likeli_neg = None\n",
    "        self.likeli_pos = None\n",
    "        self.posterior_pos = None\n",
    "        self.boolean_mask = None\n",
    "        self.likeli_neg_test = None\n",
    "        self.likeli_pos_test = None\n",
    "        self.posterior_pos_test = None\n",
    "        self.boolean_mask_test= None\n",
    "        self.train_accuracy = None\n",
    "        self.test_accuracy = None\n",
    "    def MVUE(self):\n",
    "        '''\n",
    "        Calculate the MVU estimates for Normal Distribution i.e., mean(mu) and covariance matrix(for multivariate joint gaussian)\n",
    "        It calculates the mean and covariance for both positive and negative class separetely\n",
    "        '''\n",
    "        self.mu_negative = self.train_data[self.train_data['diagnosis']== False].iloc[:,1:3].mean()\n",
    "        self.mu_positive = self.train_data[self.train_data['diagnosis']== True].iloc[:,1:3].mean()\n",
    "        self.cov_mat_negative = self.train_data[self.train_data['diagnosis']== False].iloc[:,1:3].cov()\n",
    "        self.cov_mat_positive = self.train_data[self.train_data['diagnosis']==True].iloc[:,1:3].cov()\n",
    "        if np.linalg.det(self.cov_mat_negative) == 0 or np.linalg.det(self.cov_mat_positive) == 0:\n",
    "            print(\"Covariance Matrix is not inversible , hence cannot calculate likeli hood probability\")\n",
    "    def likelihood_probabilities(self):\n",
    "        '''\n",
    "        Calculates the likelihood probabilities for both train and test data with positive and negative classes seprarately\n",
    "        '''\n",
    "        self.MVUE()\n",
    "        self.likeli_neg = s.multivariate_normal.pdf(self.train_data.iloc[:,1:3],self.mu_negative,self.cov_mat_negative)\n",
    "        self.likeli_pos = s.multivariate_normal.pdf(self.train_data.iloc[:,1:3],self.mu_positive,self.cov_mat_positive)\n",
    "        self.likeli_neg_test = s.multivariate_normal.pdf(self.test_data.iloc[:,1:3],self.mu_negative,self.cov_mat_negative)\n",
    "        self.likeli_pos_test = s.multivariate_normal.pdf(self.test_data.iloc[:,1:3],self.mu_positive,self.cov_mat_positive)\n",
    "    def posterior_probabilities(self):\n",
    "        '''\n",
    "        Posterior probailites for both the test and train data for positive class \n",
    "        '''\n",
    "        self.likelihood_probabilities()\n",
    "        self.posterior_pos = self.likeli_pos / (self.likeli_neg + self.likeli_pos)\n",
    "        self.posterior_pos_test = self.likeli_pos_test / (self.likeli_neg_test + self.likeli_pos_test)\n",
    "    def boolean(self):\n",
    "        '''\n",
    "        To get the accuracy we will need to compare the given labels to our prediction.\n",
    "        For that purpose we use boolean masking .If the posterior probabilities are greater than 0.5 then they will be\n",
    "        classified as positive class otherwise negative class.\n",
    "        '''\n",
    "        self.posterior_probabilities()\n",
    "        self.boolean_mask = self.posterior_pos >0.5\n",
    "        self.boolean_mask_test = self.posterior_pos_test > 0.5\n",
    "        self.boolean_mask,self.boolean_mask_test \n",
    "    def accuracy(self):\n",
    "        '''\n",
    "        Using boolean masks to calculate the train and test accuracy for the algorithm\n",
    "        Return :\n",
    "        train_accuracy -> Accuracy of algorithm on train data\n",
    "        test_accuracy -> Accuracy of algorithm on test data \n",
    "        '''\n",
    "        self.boolean()\n",
    "        correct_data_count = np.sum(self.boolean_mask == self.train_labels)\n",
    "        correct_data_test = np.sum(self.boolean_mask_test == self.test_labels)\n",
    "        self.train_accuracy = (correct_data_count / self.train_data.shape[0])*100\n",
    "        self.test_accuracy = (correct_data_test / self.test_data.shape[0])*100\n",
    "        return f\"Train Accuracy =  {self.train_accuracy}  Test Accuracy =  , {self.test_accuracy}\""
   ]
  },
  {
   "cell_type": "code",
   "execution_count": 21,
   "metadata": {},
   "outputs": [],
   "source": [
    "model = NaiveBaeyesClassifier(train_data, train_labels,test_data , test_labels)"
   ]
  },
  {
   "cell_type": "code",
   "execution_count": 22,
   "metadata": {},
   "outputs": [
    {
     "data": {
      "text/plain": [
       "'Train Accuracy =  89.97722095671982  Test Accuracy =  , 79.23076923076923'"
      ]
     },
     "execution_count": 22,
     "metadata": {},
     "output_type": "execute_result"
    }
   ],
   "source": [
    "model.accuracy()"
   ]
  },
  {
   "cell_type": "code",
   "execution_count": null,
   "metadata": {},
   "outputs": [],
   "source": []
  }
 ],
 "metadata": {
  "kernelspec": {
   "display_name": "Python 3",
   "language": "python",
   "name": "python3"
  },
  "language_info": {
   "codemirror_mode": {
    "name": "ipython",
    "version": 3
   },
   "file_extension": ".py",
   "mimetype": "text/x-python",
   "name": "python",
   "nbconvert_exporter": "python",
   "pygments_lexer": "ipython3",
   "version": "3.8.3"
  }
 },
 "nbformat": 4,
 "nbformat_minor": 2
}
